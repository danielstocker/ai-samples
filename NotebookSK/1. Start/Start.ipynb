{
 "cells": [
  {
   "cell_type": "markdown",
   "metadata": {},
   "source": [
    "# My first notebook!\n",
    "Execute the following line to setup C# environment\n"
   ]
  },
  {
   "cell_type": "code",
   "execution_count": null,
   "metadata": {
    "dotnet_interactive": {
     "language": "pwsh"
    },
    "polyglot_notebook": {
     "kernelName": "pwsh"
    }
   },
   "outputs": [],
   "source": [
    "dotnet tool install -g Microsoft.dotnet-interactive"
   ]
  },
  {
   "cell_type": "markdown",
   "metadata": {},
   "source": [
    "### Let's try this out\n",
    "\n",
    "👋 In the event that you hit \"play\" below on the code block and it asks you to:\n",
    " \n",
    "```\n",
    "Select kernel for <filename>\n",
    "----\n",
    ".NET Interactive 👈\n",
    "Select Another Kernel...\n",
    "----\n",
    "```\n",
    "\n",
    "Choose `.NET Interactive` and you're good to go. That selection lets you magically run the Semantic Kernel notebooks."
   ]
  },
  {
   "cell_type": "code",
   "execution_count": 2,
   "metadata": {
    "dotnet_interactive": {
     "language": "csharp"
    },
    "polyglot_notebook": {
     "kernelName": "csharp"
    }
   },
   "outputs": [
    {
     "name": "stdout",
     "output_type": "stream",
     "text": [
      "Current file path: c:\\Users\\mrochon\\source\\repos\\ai-samples\\NotebookSK\\1. Start\n",
      ".NET Version: 8.0.1\n"
     ]
    }
   ],
   "source": [
    "using System;\n",
    "using System.IO;\n",
    "\n",
    "string filePath = Directory.GetCurrentDirectory();\n",
    "Console.WriteLine(\"Current file path: \" + filePath);\n",
    "\n",
    "Console.WriteLine(\".NET Version: \" + Environment.Version);"
   ]
  },
  {
   "cell_type": "code",
   "execution_count": 5,
   "metadata": {
    "dotnet_interactive": {
     "language": "csharp"
    },
    "polyglot_notebook": {
     "kernelName": "csharp"
    }
   },
   "outputs": [
    {
     "name": "stdout",
     "output_type": "stream",
     "text": [
      "Settings: OK: Azure OpenAI endpoint configured [../config/settings.json]\n",
      "Settings: OK: deployment name configured [../config/settings.json]\n",
      "Settings: OK: API key configured [../config/secretsjson]\n"
     ]
    }
   ],
   "source": [
    "#!import ../config/Settings.cs\n",
    "\n",
    "bool useAzureOpenAI = true;\n",
    "\n",
    "await Settings.AskAzureEndpoint(useAzureOpenAI);\n",
    "await Settings.AskModel(useAzureOpenAI);\n",
    "await Settings.AskApiKey(useAzureOpenAI);"
   ]
  },
  {
   "cell_type": "markdown",
   "metadata": {},
   "source": [
    "Now trying to connect to Azure Open AI"
   ]
  },
  {
   "cell_type": "code",
   "execution_count": null,
   "metadata": {
    "dotnet_interactive": {
     "language": "csharp"
    },
    "polyglot_notebook": {
     "kernelName": "csharp"
    }
   },
   "outputs": [],
   "source": [
    "#r \"nuget: Microsoft.SemanticKernel, 1.0.1\""
   ]
  },
  {
   "cell_type": "code",
   "execution_count": 19,
   "metadata": {
    "dotnet_interactive": {
     "language": "csharp"
    },
    "polyglot_notebook": {
     "kernelName": "csharp"
    }
   },
   "outputs": [
    {
     "name": "stdout",
     "output_type": "stream",
     "text": [
      "mrdeployment01\r\n"
     ]
    }
   ],
   "source": [
    "#!import ./config/Settings.cs\n",
    "\n",
    "using Microsoft.SemanticKernel;\n",
    "using System.IO;\n",
    "\n",
    "var (useAzureOpenAI, model, azureEndpoint, apiKey, orgId) = Settings.LoadFromFile();\n",
    "var kernel = Microsoft.SemanticKernel.Kernel.CreateBuilder()\n",
    "            .AddAzureOpenAIChatCompletion(\n",
    "                 model,   // deployment name\n",
    "                 azureEndpoint, // Azure OpenAI Endpoint\n",
    "                 apiKey)      // Azure OpenAI Key\n",
    "            .Build();\n",
    "\n",
    "Console.WriteLine(model);"
   ]
  },
  {
   "cell_type": "markdown",
   "metadata": {},
   "source": [
    "Create plugin from prompt"
   ]
  },
  {
   "cell_type": "code",
   "execution_count": null,
   "metadata": {
    "dotnet_interactive": {
     "language": "csharp"
    },
    "polyglot_notebook": {
     "kernelName": "csharp"
    }
   },
   "outputs": [
    {
     "name": "stdout",
     "output_type": "stream",
     "text": [
      "Start asking me questions...\n",
      "\n",
      "User: How wide is the English Channel?\n",
      "Melody: The English Channel is approximately 34 kilometers (21 miles) wide at its narrowest point.\n",
      "\n"
     ]
    }
   ],
   "source": [
    "const string prompt = @\"\n",
    "    ChatBot can have a conversation with you about any topic.\n",
    "    It can give explicit instructions or say 'I don't know' if it does not have an answer.\n",
    "\n",
    "{{$history}}\n",
    "User: {{$userInput}}\n",
    "ChatBot:\";\n",
    "\n",
    "var kernelFunction = kernel.CreateFunctionFromPrompt(\n",
    "    prompt,\n",
    "    new Microsoft.SemanticKernel.Connectors.OpenAI.OpenAIPromptExecutionSettings\n",
    "    {\n",
    "        MaxTokens = 2000,\n",
    "        Temperature = 0.7,\n",
    "        TopP = 0.5\n",
    "    });\n",
    "var kernelArgs = new KernelArguments\n",
    "{\n",
    "    [\"history\"] = \"\"\n",
    "};\n",
    "Console.WriteLine(\"Start asking me questions...\");\n",
    "\n",
    "do\n",
    "{\n",
    "    var input = await InteractiveKernel.GetInputAsync(\"Question\");\n",
    "    if (input!.StartsWith(\"q\", StringComparison.OrdinalIgnoreCase))\n",
    "    {\n",
    "        break;\n",
    "    }\n",
    "    kernelArgs[\"userInput\"] = input;\n",
    "    var answer = await kernelFunction.InvokeAsync(kernel, kernelArgs);\n",
    "    var result = $\"\\nUser: {input}\\nMelody: {answer}\\n\";\n",
    "    kernelArgs[\"history\"] += result;\n",
    "    Console.WriteLine(result);\n",
    "} while (true);\n"
   ]
  }
 ],
 "metadata": {
  "kernelspec": {
   "display_name": ".NET (C#)",
   "language": "C#",
   "name": ".net-csharp"
  },
  "language_info": {
   "name": "polyglot-notebook"
  },
  "polyglot_notebook": {
   "kernelInfo": {
    "defaultKernelName": "csharp",
    "items": [
     {
      "aliases": [],
      "name": "csharp"
     }
    ]
   }
  }
 },
 "nbformat": 4,
 "nbformat_minor": 2
}
