{
 "cells": [
  {
   "cell_type": "markdown",
   "metadata": {},
   "source": [
    "## Using a planner"
   ]
  },
  {
   "cell_type": "code",
   "execution_count": 1,
   "metadata": {
    "dotnet_interactive": {
     "language": "csharp"
    },
    "polyglot_notebook": {
     "kernelName": "csharp"
    },
    "vscode": {
     "languageId": "polyglot-notebook"
    }
   },
   "outputs": [
    {
     "data": {
      "text/html": [
       "<div><div></div><div></div><div><strong>Installed Packages</strong><ul><li><span>Microsoft.SemanticKernel, 1.4.0</span></li><li><span>Microsoft.SemanticKernel.Connectors.OpenAI, 1.4.0</span></li><li><span>Microsoft.SemanticKernel.Planners.Handlebars, 1.4.0-preview</span></li><li><span>Microsoft.SemanticKernel.Plugins.Core, 1.4.0-alpha</span></li><li><span>Microsoft.SemanticKernel.Plugins.Web, 1.4.0-alpha</span></li></ul></div></div>"
      ]
     },
     "metadata": {},
     "output_type": "display_data"
    }
   ],
   "source": [
    "#r \"nuget: Microsoft.SemanticKernel, 1.4.0\"\n",
    "#r \"nuget: Microsoft.SemanticKernel.Planners.Handlebars, 1.4.0-preview\"\n",
    "#r \"nuget: Microsoft.SemanticKernel.Connectors.OpenAI, 1.4.0\"\n",
    "#r \"nuget: Microsoft.SemanticKernel.Plugins.Core, 1.4.0-alpha\"\n",
    "#r \"nuget: Microsoft.SemanticKernel.Plugins.Web, 1.4.0-alpha\"\n"
   ]
  },
  {
   "cell_type": "code",
   "execution_count": 2,
   "metadata": {
    "dotnet_interactive": {
     "language": "csharp"
    },
    "polyglot_notebook": {
     "kernelName": "csharp"
    },
    "vscode": {
     "languageId": "polyglot-notebook"
    }
   },
   "outputs": [
    {
     "name": "stdout",
     "output_type": "stream",
     "text": [
      "Loading $c:\\Users\\mrochon\\source\\repos\\ai-samples\\NotebookSK\\4. PlanWithGraph\\..\\Plugins$WeatherPlugin\n",
      "Loading $c:\\Users\\mrochon\\source\\repos\\ai-samples\\NotebookSK\\4. PlanWithGraph\\..\\Plugins$WriterPlugin\n",
      "Loading $c:\\Users\\mrochon\\source\\repos\\ai-samples\\NotebookSK\\4. PlanWithGraph\\..\\Plugins$TranslatePlugin\n"
     ]
    }
   ],
   "source": [
    "#!import ../config/Settings.cs\n",
    "#!import ../Plugins/EmailPlugin.cs\n",
    "\n",
    "using Microsoft.SemanticKernel;\n",
    "using Microsoft.SemanticKernel.Planning.Handlebars;\n",
    "using Microsoft.SemanticKernel.Connectors.OpenAI;\n",
    "using Microsoft.SemanticKernel.Plugins.Core;\n",
    "using Microsoft.SemanticKernel.Plugins.Web;\n",
    "using Microsoft.SemanticKernel.Plugins.Web.Bing;\n",
    "using System.IO;\n",
    "\n",
    "var (useAzureOpenAI, model, azureEndpoint, apiKey, bingApiKey, orgId) = Settings.LoadFromFile();\n",
    "var kernel = Microsoft.SemanticKernel.Kernel.CreateBuilder()\n",
    "            .AddAzureOpenAIChatCompletion(\n",
    "                model,   // deployment name\n",
    "                azureEndpoint, // Azure OpenAI Endpoint\n",
    "                apiKey)      // Azure OpenAI Key\n",
    "            .Build();\n",
    "\n",
    "kernel.Plugins.Clear();\n",
    "var pluginPath = Path.Combine(System.IO.Directory.GetCurrentDirectory(), \"..\", \"Plugins\");\n",
    "foreach (var plugin in new string[] { \"WeatherPlugin\", \"WriterPlugin\", \"TranslatePlugin\" })\n",
    "{\n",
    "    Console.WriteLine($\"Loading ${pluginPath}${plugin}\");\n",
    "    kernel.ImportPluginFromPromptDirectory(Path.Combine(pluginPath, plugin));\n",
    "}\n",
    "#pragma warning disable SKEXP0050\n",
    "kernel.ImportPluginFromType<TimePlugin>();   \n",
    "#pragma warning disable SKEXP0054\n",
    "var bing = kernel.ImportPluginFromType<SearchUrlPlugin>(\"search\");\n",
    "// #pragma warning disable SKEXP0054\n",
    "// var bingConnector = new BingConnector(bingApiKey);\n",
    "// var bing = new WebSearchEnginePlugin(bingConnector);\n",
    "// kernel.ImportPluginFromObject(bing, \"bing\");\n",
    "\n",
    "var kernelPlugin = KernelPluginFactory.CreateFromFunctions(\n",
    "    \"AddressBookPlugin\",\n",
    "    \"Manages properties of people with email addresses\",\n",
    "    new KernelFunction[] { \n",
    "            kernel.CreateFunctionFromMethod(\n",
    "                ([Description(\"Person name\")]string name) => $\"{name}@contoso.com\",\n",
    "                functionName: \"GetEmailAddress\",\n",
    "                description: \"Given person name, return the person's email address\"),\n",
    "            kernel.CreateFunctionFromMethod(\n",
    "                ([Description(\"Text to output\")]string text) => Console.WriteLine(text),\n",
    "                functionName: \"DisplayText\",\n",
    "                description: \"Output completion results to the screen\")                \n",
    "    }\n",
    ");\n",
    "kernel.Plugins.Add(kernelPlugin);\n"
   ]
  },
  {
   "cell_type": "markdown",
   "metadata": {},
   "source": [
    "List plugins and functions"
   ]
  },
  {
   "cell_type": "code",
   "execution_count": 3,
   "metadata": {
    "dotnet_interactive": {
     "language": "csharp"
    },
    "polyglot_notebook": {
     "kernelName": "csharp"
    },
    "vscode": {
     "languageId": "polyglot-notebook"
    }
   },
   "outputs": [
    {
     "name": "stdout",
     "output_type": "stream",
     "text": [
      "Plugin: WeatherPlugin\n",
      "   Simple: Create search url for a city\n",
      "      Params:\n",
      "      - city: \n",
      "        default: ''\n",
      "\n",
      "Plugin: WriterPlugin\n",
      "   Classification: Text classification\n",
      "      Params:\n",
      "      - input: \n",
      "        default: ''\n",
      "      - label: \n",
      "        default: ''\n",
      "\n",
      "Plugin: WriterPlugin\n",
      "   Tips: Generates tips for a given topic\n",
      "      Params:\n",
      "      - input: \n",
      "        default: ''\n",
      "      - language: \n",
      "        default: ''\n",
      "\n",
      "Plugin: TranslatePlugin\n",
      "   Basic: Translate from any language to English\n",
      "      Params:\n",
      "      - input: \n",
      "        default: ''\n",
      "\n",
      "Plugin: TranslatePlugin\n",
      "   MultiLanguage: Translate sentenses into a language of your choice\n",
      "      Params:\n",
      "      - language: \n",
      "        default: ''\n",
      "      - input: \n",
      "        default: ''\n",
      "\n",
      "Plugin: TimePlugin\n",
      "   Date: Get the current date\n",
      "\n",
      "Plugin: TimePlugin\n",
      "   Today: Get the current date\n",
      "\n",
      "Plugin: TimePlugin\n",
      "   Now: Get the current date and time in the local time zone\n",
      "\n",
      "Plugin: TimePlugin\n",
      "   UtcNow: Get the current UTC date and time\n",
      "\n",
      "Plugin: TimePlugin\n",
      "   Time: Get the current time\n",
      "\n",
      "Plugin: TimePlugin\n",
      "   Year: Get the current year\n",
      "\n",
      "Plugin: TimePlugin\n",
      "   Month: Get the current month name\n",
      "\n",
      "Plugin: TimePlugin\n",
      "   MonthNumber: Get the current month number\n",
      "\n",
      "Plugin: TimePlugin\n",
      "   Day: Get the current day of the month\n",
      "\n",
      "Plugin: TimePlugin\n",
      "   DaysAgo: Get the date offset by a provided number of days from today\n",
      "      Params:\n",
      "      - input: The number of days to offset from today\n",
      "        default: ''\n",
      "\n",
      "Plugin: TimePlugin\n",
      "   DayOfWeek: Get the current day of the week\n",
      "\n",
      "Plugin: TimePlugin\n",
      "   Hour: Get the current clock hour\n",
      "\n",
      "Plugin: TimePlugin\n",
      "   HourNumber: Get the current clock 24-hour number\n",
      "\n",
      "Plugin: TimePlugin\n",
      "   DateMatchingLastDayName: Get the date of the last day matching the supplied week day name in English. Example: Che giorno era 'Martedi' scorso -> dateMatchingLastDayName 'Tuesday' => Tuesday, 16 May, 2023\n",
      "      Params:\n",
      "      - input: The day name to match\n",
      "        default: ''\n",
      "\n",
      "Plugin: TimePlugin\n",
      "   Minute: Get the minutes on the current hour\n",
      "\n",
      "Plugin: TimePlugin\n",
      "   Second: Get the seconds on the current minute\n",
      "\n",
      "Plugin: TimePlugin\n",
      "   TimeZoneOffset: Get the local time zone offset from UTC\n",
      "\n",
      "Plugin: TimePlugin\n",
      "   TimeZoneName: Get the local time zone name\n",
      "\n",
      "Plugin: search\n",
      "   AmazonSearchUrl: Return URL for Amazon search query\n",
      "      Params:\n",
      "      - query: Text to search for\n",
      "        default: ''\n",
      "\n",
      "Plugin: search\n",
      "   BingSearchUrl: Return URL for Bing search query.\n",
      "      Params:\n",
      "      - query: Text to search for\n",
      "        default: ''\n",
      "\n",
      "Plugin: search\n",
      "   BingImagesSearchUrl: Return URL for Bing Images search query.\n",
      "      Params:\n",
      "      - query: Text to search for\n",
      "        default: ''\n",
      "\n",
      "Plugin: search\n",
      "   BingMapsSearchUrl: Return URL for Bing Maps search query.\n",
      "      Params:\n",
      "      - query: Text to search for\n",
      "        default: ''\n",
      "\n",
      "Plugin: search\n",
      "   BingShoppingSearchUrl: Return URL for Bing Shopping search query.\n",
      "      Params:\n",
      "      - query: Text to search for\n",
      "        default: ''\n",
      "\n",
      "Plugin: search\n",
      "   BingNewsSearchUrl: Return URL for Bing News search query.\n",
      "      Params:\n",
      "      - query: Text to search for\n",
      "        default: ''\n",
      "\n",
      "Plugin: search\n",
      "   BingTravelSearchUrl: Return URL for Bing Travel search query.\n",
      "      Params:\n",
      "      - query: Text to search for\n",
      "        default: ''\n",
      "\n",
      "Plugin: search\n",
      "   FacebookSearchUrl: Return URL for Facebook search query.\n",
      "      Params:\n",
      "      - query: Text to search for\n",
      "        default: ''\n",
      "\n",
      "Plugin: search\n",
      "   GitHubSearchUrl: Return URL for GitHub search query.\n",
      "      Params:\n",
      "      - query: Text to search for\n",
      "        default: ''\n",
      "\n",
      "Plugin: search\n",
      "   LinkedInSearchUrl: Return URL for LinkedIn search query.\n",
      "      Params:\n",
      "      - query: Text to search for\n",
      "        default: ''\n",
      "\n",
      "Plugin: search\n",
      "   TwitterSearchUrl: Return URL for Twitter search query.\n",
      "      Params:\n",
      "      - query: Text to search for\n",
      "        default: ''\n",
      "\n",
      "Plugin: search\n",
      "   WikipediaSearchUrl: Return URL for Wikipedia search query.\n",
      "      Params:\n",
      "      - query: Text to search for\n",
      "        default: ''\n",
      "\n",
      "Plugin: AddressBookPlugin\n",
      "   GetEmailAddress: Given person name, return the person's email address\n",
      "      Params:\n",
      "      - name: Person name\n",
      "        default: ''\n",
      "\n",
      "Plugin: AddressBookPlugin\n",
      "   DisplayText: Output completion results to the screen\n",
      "      Params:\n",
      "      - text: Text to output\n",
      "        default: ''\n",
      "\n"
     ]
    }
   ],
   "source": [
    "foreach (KernelFunctionMetadata func in kernel.Plugins.GetFunctionsMetadata())\n",
    "{\n",
    "    Console.WriteLine($\"Plugin: {func.PluginName}\");\n",
    "    Console.WriteLine($\"   {func.Name}: {func.Description}\");\n",
    "\n",
    "    if (func.Parameters.Count > 0)\n",
    "    {\n",
    "        Console.WriteLine(\"      Params:\");\n",
    "        foreach (var p in func.Parameters)\n",
    "        {\n",
    "            Console.WriteLine($\"      - {p.Name}: {p.Description}\");\n",
    "            Console.WriteLine($\"        default: '{p.DefaultValue}'\");\n",
    "        }\n",
    "    }\n",
    "\n",
    "    Console.WriteLine();\n",
    "}"
   ]
  },
  {
   "cell_type": "markdown",
   "metadata": {},
   "source": [
    "Now try different prompts"
   ]
  },
  {
   "cell_type": "code",
   "execution_count": 6,
   "metadata": {
    "dotnet_interactive": {
     "language": "csharp"
    },
    "polyglot_notebook": {
     "kernelName": "csharp"
    },
    "vscode": {
     "languageId": "polyglot-notebook"
    }
   },
   "outputs": [
    {
     "name": "stdout",
     "output_type": "stream",
     "text": [
      "---Plan:\n",
      "\n",
      "{{!-- Step 1: Define the search query --}}\n",
      "{{set \"query\" \"Seattle weather\"}}\n",
      "\n",
      "{{!-- Step 2: Call the search-BingSearchUrl helper with the query --}}\n",
      "{{set \"searchUrl\" (search-BingSearchUrl query)}}\n",
      "\n",
      "{{!-- Step 3: Output the search URL --}}\n",
      "{{json searchUrl}}\n",
      "---Result:\n",
      "\n",
      "https://www.bing.com/search?q=Seattle%20weather\n"
     ]
    }
   ],
   "source": [
    "#pragma warning disable SKEXP0060\n",
    "var planner = new HandlebarsPlanner(new HandlebarsPlannerOptions() { AllowLoops = true });\n",
    "//var plan = await planner.CreatePlanAsync(kernel, \"Check the weather in Seattle, write an email, in Danish to Jane with dressing tips based on the results\");\n",
    "//var goal = \"Check the weather in Seattle, find Jane's email address and write her an email with some dressing tips based on the results\";    \n",
    "//var goal = \"How do I search for weather in Seattle?\";\n",
    "var goal = \"Use web search to find Seattle weather\";\n",
    "var plan = await planner.CreatePlanAsync(kernel, goal);\n",
    "Console.WriteLine(\"---Plan:\\n\");\n",
    "Console.WriteLine(plan.ToString());\n",
    "File.WriteAllText(\"plan.json\", plan.ToString());\n",
    "\n",
    "Console.WriteLine(\"---Result:\\n\");\n",
    "var resp = await plan.InvokeAsync(kernel);\n",
    "Console.WriteLine(resp);\n",
    "\n",
    "// Should be able to save and re-load a plan: https://devblogs.microsoft.com/semantic-kernel/migrating-from-the-sequential-and-stepwise-planners-to-the-new-handlebars-and-stepwise-planner/"
   ]
  },
  {
   "cell_type": "markdown",
   "metadata": {},
   "source": [
    "You can now modify, load and execute the plan."
   ]
  },
  {
   "cell_type": "code",
   "execution_count": 12,
   "metadata": {
    "dotnet_interactive": {
     "language": "csharp"
    },
    "polyglot_notebook": {
     "kernelName": "csharp"
    },
    "vscode": {
     "languageId": "polyglot-notebook"
    }
   },
   "outputs": [
    {
     "name": "stdout",
     "output_type": "stream",
     "text": [
      "https://www.bing.com/search?q=Chicago%20weather\r\n"
     ]
    }
   ],
   "source": [
    "var plan2Source = File.ReadAllText(\"plan.json\");\n",
    "plan2Source = plan2Source.Replace(\"Seattle\", \"Chicago\");\n",
    "#pragma warning disable SKEXP0060\n",
    "var plan2 = new HandlebarsPlan(plan2Source);\n",
    "var resp2 = await plan2.InvokeAsync(kernel);\n",
    "Console.WriteLine(resp2);"
   ]
  }
 ],
 "metadata": {
  "language_info": {
   "name": "python"
  }
 },
 "nbformat": 4,
 "nbformat_minor": 2
}
