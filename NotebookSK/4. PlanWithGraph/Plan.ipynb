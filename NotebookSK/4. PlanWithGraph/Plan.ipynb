{
 "cells": [
  {
   "cell_type": "markdown",
   "metadata": {},
   "source": [
    "## Using a planner"
   ]
  },
  {
   "cell_type": "code",
   "execution_count": 1,
   "metadata": {
    "dotnet_interactive": {
     "language": "csharp"
    },
    "polyglot_notebook": {
     "kernelName": "csharp"
    },
    "vscode": {
     "languageId": "polyglot-notebook"
    }
   },
   "outputs": [
    {
     "data": {
      "text/html": [
       "<div><div></div><div></div><div><strong>Installed Packages</strong><ul><li><span>Microsoft.SemanticKernel, 1.0.1</span></li><li><span>Microsoft.SemanticKernel.Connectors.OpenAI, 1.0.1</span></li><li><span>Microsoft.SemanticKernel.Planners.Handlebars, 1.0.1-preview</span></li><li><span>Microsoft.SemanticKernel.Plugins.Core, 1.0.1-alpha</span></li><li><span>Microsoft.SemanticKernel.Plugins.Web, 1.0.1-alpha</span></li></ul></div></div>"
      ]
     },
     "metadata": {},
     "output_type": "display_data"
    }
   ],
   "source": [
    "#r \"nuget: Microsoft.SemanticKernel, 1.0.1\"\n",
    "#r \"nuget: Microsoft.SemanticKernel.Planners.Handlebars, 1.0.1-preview\"\n",
    "#r \"nuget: Microsoft.SemanticKernel.Connectors.OpenAI, 1.0.1\"\n",
    "#r \"nuget: Microsoft.SemanticKernel.Plugins.Core, 1.0.1-alpha\"\n",
    "#r \"nuget: Microsoft.SemanticKernel.Plugins.Web, 1.0.1-alpha\"\n"
   ]
  },
  {
   "cell_type": "code",
   "execution_count": 2,
   "metadata": {
    "dotnet_interactive": {
     "language": "csharp"
    },
    "polyglot_notebook": {
     "kernelName": "csharp"
    },
    "vscode": {
     "languageId": "polyglot-notebook"
    }
   },
   "outputs": [
    {
     "name": "stdout",
     "output_type": "stream",
     "text": [
      "Loading $c:\\Users\\mrochon\\source\\repos\\ai-samples\\NotebookSK\\4. Plan\\..\\Plugins$WeatherPlugin\n",
      "Loading $c:\\Users\\mrochon\\source\\repos\\ai-samples\\NotebookSK\\4. Plan\\..\\Plugins$WriterPlugin\n",
      "Loading $c:\\Users\\mrochon\\source\\repos\\ai-samples\\NotebookSK\\4. Plan\\..\\Plugins$TranslatePlugin\n"
     ]
    }
   ],
   "source": [
    "#!import ../config/Settings.cs\n",
    "#!import ../Plugins/EmailPlugin.cs\n",
    "\n",
    "using Microsoft.SemanticKernel;\n",
    "using Microsoft.SemanticKernel.Planning.Handlebars;\n",
    "using Microsoft.SemanticKernel.Connectors.OpenAI;\n",
    "using Microsoft.SemanticKernel.Plugins.Core;\n",
    "using Microsoft.SemanticKernel.Plugins.Web;\n",
    "using Microsoft.SemanticKernel.Plugins.Web.Bing;\n",
    "using System.IO;\n",
    "\n",
    "var (useAzureOpenAI, model, azureEndpoint, apiKey, bingApiKey, orgId) = Settings.LoadFromFile();\n",
    "var kernel = Microsoft.SemanticKernel.Kernel.CreateBuilder()\n",
    "            .AddAzureOpenAIChatCompletion(\n",
    "                model,   // deployment name\n",
    "                azureEndpoint, // Azure OpenAI Endpoint\n",
    "                apiKey)      // Azure OpenAI Key\n",
    "            .Build();\n",
    "\n",
    "kernel.Plugins.Clear();\n",
    "var pluginPath = Path.Combine(System.IO.Directory.GetCurrentDirectory(), \"..\", \"Plugins\");\n",
    "foreach (var plugin in new string[] { \"WeatherPlugin\", \"WriterPlugin\", \"TranslatePlugin\" })\n",
    "{\n",
    "    Console.WriteLine($\"Loading ${pluginPath}${plugin}\");\n",
    "    kernel.ImportPluginFromPromptDirectory(Path.Combine(pluginPath, plugin));\n",
    "}\n",
    "#pragma warning disable SKEXP0050\n",
    "kernel.ImportPluginFromType<TimePlugin>();   \n",
    "#pragma warning disable SKEXP0054\n",
    "var bing = kernel.ImportPluginFromType<SearchUrlPlugin>(\"search\");\n",
    "// #pragma warning disable SKEXP0054\n",
    "// var bingConnector = new BingConnector(bingApiKey);\n",
    "// var bing = new WebSearchEnginePlugin(bingConnector);\n",
    "// kernel.ImportPluginFromObject(bing, \"bing\");\n",
    "\n",
    "var kernelPlugin = KernelPluginFactory.CreateFromFunctions(\n",
    "    \"AddressBookPlugin\",\n",
    "    \"Manages properties of people with email addresses\",\n",
    "    new KernelFunction[] { \n",
    "            kernel.CreateFunctionFromMethod(\n",
    "                ([Description(\"Person name\")]string name) => $\"{name}@contoso.com\",\n",
    "                functionName: \"GetEmailAddress\",\n",
    "                description: \"Given person name, return the person's email address\"),\n",
    "            kernel.CreateFunctionFromMethod(\n",
    "                ([Description(\"Text to output\")]string text) => Console.WriteLine(text),\n",
    "                functionName: \"DisplayText\",\n",
    "                description: \"Output completion results to the screen\")                \n",
    "    }\n",
    ");\n",
    "kernel.Plugins.Add(kernelPlugin);\n"
   ]
  },
  {
   "cell_type": "markdown",
   "metadata": {},
   "source": [
    "List plugins and functions"
   ]
  },
  {
   "cell_type": "code",
   "execution_count": null,
   "metadata": {
    "dotnet_interactive": {
     "language": "csharp"
    },
    "polyglot_notebook": {
     "kernelName": "csharp"
    },
    "vscode": {
     "languageId": "polyglot-notebook"
    }
   },
   "outputs": [],
   "source": [
    "    foreach (KernelFunctionMetadata func in kernel.Plugins.GetFunctionsMetadata())\n",
    "    {\n",
    "        Console.WriteLine($\"Plugin: {func.PluginName}\");\n",
    "        Console.WriteLine($\"   {func.Name}: {func.Description}\");\n",
    "\n",
    "        if (func.Parameters.Count > 0)\n",
    "        {\n",
    "            Console.WriteLine(\"      Params:\");\n",
    "            foreach (var p in func.Parameters)\n",
    "            {\n",
    "                Console.WriteLine($\"      - {p.Name}: {p.Description}\");\n",
    "                Console.WriteLine($\"        default: '{p.DefaultValue}'\");\n",
    "            }\n",
    "        }\n",
    "\n",
    "        Console.WriteLine();\n",
    "    }"
   ]
  },
  {
   "cell_type": "markdown",
   "metadata": {},
   "source": [
    "Now try different prompts"
   ]
  },
  {
   "cell_type": "code",
   "execution_count": 8,
   "metadata": {
    "dotnet_interactive": {
     "language": "csharp"
    },
    "polyglot_notebook": {
     "kernelName": "csharp"
    },
    "vscode": {
     "languageId": "polyglot-notebook"
    }
   },
   "outputs": [
    {
     "name": "stdout",
     "output_type": "stream",
     "text": [
      "Plan:\n",
      "\n",
      "{{!-- Step 1: Create search URL for Seattle weather --}}\n",
      "{{set \"searchUrl\" (WeatherPlugin-Simple city=\"Seattle\")}}\n",
      "\n",
      "{{!-- Step 2: Search for Seattle weather and get the result --}}\n",
      "{{set \"searchResult\" (search-BingSearchUrl query=searchUrl)}}\n",
      "\n",
      "{{!-- Step 3: Print the search result to the screen --}}\n",
      "{{json (concat \"The weather in Seattle is: \" searchResult)}}\n",
      "Result:\n",
      "\n",
      "The weather in Seattle is: https://www.bing.com/search?q=city%3A%20Seattle%0AsearchUrl%3A%20https%3A%2F%2Fwww.msn.com%2Fen-us%2Fweather%2Fforecast%2Fin-Seattle,WA\n"
     ]
    }
   ],
   "source": [
    "#pragma warning disable SKEXP0060\n",
    "    var planner = new HandlebarsPlanner() { AllowLoops = true });\n",
    "    //var plan = await planner.CreatePlanAsync(kernel, \"Check the weather in Seattle, write an email, in Danish to Jane with dressing tips based on the results\");\n",
    "    //var goal = \"Check the weather in Seattle, find Jane's email address and write her an email with some dressing tips based on the results\";    \n",
    "    //var goal = \"How do I search for weather in Seattle?\";\n",
    "    var goal = \"Use web search to find Seattle weather\";\n",
    "    var plan = await planner.CreatePlanAsync(kernel, goal);\n",
    "    var resp = await plan.InvokeAsync(kernel);\n",
    "    Console.WriteLine(\"Plan:\\n\");\n",
    "    Console.WriteLine(plan.ToString());\n",
    "    Console.WriteLine(\"Result:\\n\");\n",
    "    Console.WriteLine(resp);\n",
    "\n",
    "    // Should be able to save and re-load a plan: https://devblogs.microsoft.com/semantic-kernel/migrating-from-the-sequential-and-stepwise-planners-to-the-new-handlebars-and-stepwise-planner/"
   ]
  },
  {
   "cell_type": "markdown",
   "metadata": {},
   "source": [
    "You can now modify, load and execute the plan."
   ]
  }
 ],
 "metadata": {
  "language_info": {
   "name": "python"
  }
 },
 "nbformat": 4,
 "nbformat_minor": 2
}
