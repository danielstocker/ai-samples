{
 "cells": [
  {
   "cell_type": "markdown",
   "metadata": {},
   "source": [
    "## Defining C# function as kernel function"
   ]
  },
  {
   "cell_type": "code",
   "execution_count": 6,
   "metadata": {
    "dotnet_interactive": {
     "language": "csharp"
    },
    "polyglot_notebook": {
     "kernelName": "csharp"
    },
    "vscode": {
     "languageId": "polyglot-notebook"
    }
   },
   "outputs": [
    {
     "data": {
      "text/html": [
       "<div><div></div><div></div><div><strong>Installed Packages</strong><ul><li><span>Microsoft.SemanticKernel, 1.0.1</span></li><li><span>Microsoft.SemanticKernel.Planners.Handlebars, 1.0.1-preview</span></li></ul></div></div>"
      ]
     },
     "metadata": {},
     "output_type": "display_data"
    }
   ],
   "source": [
    "#r \"nuget: Microsoft.SemanticKernel, 1.0.1\"\n",
    "#r \"nuget: Microsoft.SemanticKernel.Planners.Handlebars, 1.0.1-preview\""
   ]
  },
  {
   "cell_type": "code",
   "execution_count": null,
   "metadata": {
    "dotnet_interactive": {
     "language": "csharp"
    },
    "polyglot_notebook": {
     "kernelName": "csharp"
    },
    "vscode": {
     "languageId": "polyglot-notebook"
    }
   },
   "outputs": [],
   "source": [
    "#!import ../config/Settings.cs\n",
    "\n",
    "using Microsoft.SemanticKernel;\n",
    "using Microsoft.SemanticKernel.Planning.Handlebars;\n",
    "using System.IO;\n",
    "\n",
    "var (useAzureOpenAI, model, azureEndpoint, apiKey, bingApiKey, orgId) = Settings.LoadFromFile();\n",
    "var kernel = Microsoft.SemanticKernel.Kernel.CreateBuilder()\n",
    "            .AddAzureOpenAIChatCompletion(\n",
    "                model,   // deployment name\n",
    "                azureEndpoint, // Azure OpenAI Endpoint\n",
    "                apiKey)      // Azure OpenAI Key\n",
    "            .Build();"
   ]
  },
  {
   "cell_type": "code",
   "execution_count": 13,
   "metadata": {
    "dotnet_interactive": {
     "language": "csharp"
    },
    "polyglot_notebook": {
     "kernelName": "csharp"
    },
    "vscode": {
     "languageId": "polyglot-notebook"
    }
   },
   "outputs": [],
   "source": [
    "using Microsoft.SemanticKernel;\n",
    "using System.ComponentModel;\n",
    "\n",
    "public sealed class MyPlugin\n",
    "{\n",
    "    public MyPlugin()\n",
    "    {\n",
    "\n",
    "    }\n",
    "    [KernelFunction, Description(@\"\n",
    "    Make a funny remark. \n",
    "    Example:\n",
    "       The horse could not speak because its throat was sore.\n",
    "       What is the point of a point?\n",
    "       See shells she sells by the sea shore.\")]\n",
    "    public string FunnyRemark()\n",
    "    {\n",
    "        return \"This is funny!!!\";\n",
    "    }    \n",
    "    [KernelFunction, Description(\"Return a sad remark\")]\n",
    "    public string SadRemark()\n",
    "    {\n",
    "        return \"This is sad, very sad!!!\";\n",
    "    }        \n",
    "}\n",
    "\n",
    "kernel.Plugins.Clear();\n",
    "#pragma warning disable SKEXP0050\n",
    "kernel.ImportPluginFromType<MyPlugin>();   "
   ]
  },
  {
   "cell_type": "markdown",
   "metadata": {},
   "source": [
    "List plugins and functions"
   ]
  },
  {
   "cell_type": "code",
   "execution_count": null,
   "metadata": {
    "dotnet_interactive": {
     "language": "csharp"
    },
    "polyglot_notebook": {
     "kernelName": "csharp"
    },
    "vscode": {
     "languageId": "polyglot-notebook"
    }
   },
   "outputs": [],
   "source": [
    "    foreach (KernelFunctionMetadata func in kernel.Plugins.GetFunctionsMetadata())\n",
    "    {\n",
    "        Console.WriteLine($\"Plugin: {func.PluginName}\");\n",
    "        Console.WriteLine($\"   {func.Name}: {func.Description}\");\n",
    "\n",
    "        if (func.Parameters.Count > 0)\n",
    "        {\n",
    "            Console.WriteLine(\"      Params:\");\n",
    "            foreach (var p in func.Parameters)\n",
    "            {\n",
    "                Console.WriteLine($\"      - {p.Name}: {p.Description}\");\n",
    "                Console.WriteLine($\"        default: '{p.DefaultValue}'\");\n",
    "            }\n",
    "        }\n",
    "\n",
    "        Console.WriteLine();\n",
    "    }"
   ]
  },
  {
   "cell_type": "markdown",
   "metadata": {},
   "source": [
    "Now try different prompts"
   ]
  },
  {
   "cell_type": "code",
   "execution_count": 16,
   "metadata": {
    "dotnet_interactive": {
     "language": "csharp"
    },
    "polyglot_notebook": {
     "kernelName": "csharp"
    },
    "vscode": {
     "languageId": "polyglot-notebook"
    }
   },
   "outputs": [
    {
     "name": "stdout",
     "output_type": "stream",
     "text": [
      "Plan:\n",
      "\n",
      "{{!-- Step 1: Call the MyPlugin-FunnyRemark helper --}}\n",
      "{{set \"remark\" (MyPlugin-FunnyRemark)}}\n",
      "\n",
      "{{!-- Step 2: Check if the remark is empty --}}\n",
      "{{#unless (equals remark \"\")}}\n",
      "\n",
      "  {{!-- Step 3: Print the funny remark --}}\n",
      "  {{json (concat \"Funny remark: \" remark)}}\n",
      "\n",
      "{{else}}\n",
      "\n",
      "  {{!-- Step 4: Print \"Sorry\" --}}\n",
      "  {{json \"Sorry\"}}\n",
      "\n",
      "{{/unless}}\n",
      "Result:\n",
      "\n",
      "Funny remark: This is funny!!!\n"
     ]
    }
   ],
   "source": [
    "#pragma warning disable SKEXP0060\n",
    "    var planner = new HandlebarsPlanner();\n",
    "    var goal = \"Tell me something funny, something to make me laugh. If you cannot, say 'sorry'\";\n",
    "    var plan = await planner.CreatePlanAsync(kernel, goal);\n",
    "    var resp = await plan.InvokeAsync(kernel);\n",
    "    Console.WriteLine(\"Plan:\\n\");\n",
    "    Console.WriteLine(plan.ToString());\n",
    "    Console.WriteLine(\"Result:\\n\");\n",
    "    Console.WriteLine(resp);"
   ]
  },
  {
   "cell_type": "markdown",
   "metadata": {},
   "source": [
    "You can now modify, load and execute the plan."
   ]
  },
  {
   "cell_type": "code",
   "execution_count": 10,
   "metadata": {
    "dotnet_interactive": {
     "language": "csharp"
    },
    "polyglot_notebook": {
     "kernelName": "csharp"
    },
    "vscode": {
     "languageId": "polyglot-notebook"
    }
   },
   "outputs": [
    {
     "ename": "Error",
     "evalue": "(3,10): error CS1002: ; expected\r\n(3,22): error CS1002: ; expected\r\n(3,22): error CS1010: Newline in constant\r\n(3,72): error CS1002: ; expected\r\n(5,14): error CS1002: ; expected\r\n(5,15): error CS1002: ; expected\r\n(5,15): error CS1513: } expected\r\n(5,27): error CS1002: ; expected\r\n(5,41): error CS1002: ; expected\r\n(5,48): error CS1002: ; expected\r\n(5,57): error CS1002: ; expected\r\n(6,18): error CS1003: Syntax error, ',' expected\r\n(6,48): error CS1003: Syntax error, ',' expected\r\n(6,61): error CS1002: ; expected\r\n(7,1): error CS1010: Newline in constant\r\n(7,3): error CS1002: ; expected\r\n(9,52): error CS1026: ) expected\r\n(9,53): error CS7017: Member definition, statement, or end-of-file expected",
     "output_type": "error",
     "traceback": [
      "(3,10): error CS1002: ; expected\r\n",
      "(3,22): error CS1002: ; expected\r\n",
      "(3,22): error CS1010: Newline in constant\r\n",
      "(3,72): error CS1002: ; expected\r\n",
      "(5,14): error CS1002: ; expected\r\n",
      "(5,15): error CS1002: ; expected\r\n",
      "(5,15): error CS1513: } expected\r\n",
      "(5,27): error CS1002: ; expected\r\n",
      "(5,41): error CS1002: ; expected\r\n",
      "(5,48): error CS1002: ; expected\r\n",
      "(5,57): error CS1002: ; expected\r\n",
      "(6,18): error CS1003: Syntax error, ',' expected\r\n",
      "(6,48): error CS1003: Syntax error, ',' expected\r\n",
      "(6,61): error CS1002: ; expected\r\n",
      "(7,1): error CS1010: Newline in constant\r\n",
      "(7,3): error CS1002: ; expected\r\n",
      "(9,52): error CS1026: ) expected\r\n",
      "(9,53): error CS7017: Member definition, statement, or end-of-file expected"
     ]
    }
   ],
   "source": [
    "var newSerializedPlan = @\"\n",
    "{{!-- Step 2: Search for Seattle weather and get the result --}}\n",
    "{{set \"searchResult\" (search-BingSearchUrl query=searchUrl)}}\n",
    "\n",
    "{{!-- Step 3: Print the search result to the screen --}}\n",
    "{{json (concat \"The weather in Seattle is: \" searchResult)}}\n",
    "\";\n",
    "var newPlan = new HandlebarsPlan(serializedPlan);\n",
    "Console.WriteLine(await newPlan.InvokeAsync(kernel);)"
   ]
  }
 ],
 "metadata": {
  "language_info": {
   "name": "python"
  }
 },
 "nbformat": 4,
 "nbformat_minor": 2
}
