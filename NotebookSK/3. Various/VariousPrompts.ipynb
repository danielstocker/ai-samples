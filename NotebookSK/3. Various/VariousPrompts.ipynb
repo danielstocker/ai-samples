{
 "cells": [
  {
   "cell_type": "markdown",
   "metadata": {},
   "source": [
    "Various prompts"
   ]
  },
  {
   "cell_type": "code",
   "execution_count": 1,
   "metadata": {
    "dotnet_interactive": {
     "language": "csharp"
    },
    "polyglot_notebook": {
     "kernelName": "csharp"
    },
    "vscode": {
     "languageId": "polyglot-notebook"
    }
   },
   "outputs": [
    {
     "data": {
      "text/html": [
       "<div><div></div><div></div><div><strong>Installed Packages</strong><ul><li><span>Microsoft.SemanticKernel, 1.0.1</span></li></ul></div></div>"
      ]
     },
     "metadata": {},
     "output_type": "display_data"
    }
   ],
   "source": [
    "#r \"nuget: Microsoft.SemanticKernel, 1.0.1\""
   ]
  },
  {
   "cell_type": "markdown",
   "metadata": {},
   "source": [
    "Create kernel"
   ]
  },
  {
   "cell_type": "code",
   "execution_count": 2,
   "metadata": {
    "dotnet_interactive": {
     "language": "csharp"
    },
    "polyglot_notebook": {
     "kernelName": "csharp"
    },
    "vscode": {
     "languageId": "polyglot-notebook"
    }
   },
   "outputs": [],
   "source": [
    "#!import ../config/Settings.cs\n",
    "using Microsoft.SemanticKernel;\n",
    "\n",
    "var (useAzureOpenAI, model, azureEndpoint, apiKey, bingApiKey, orgId) = Settings.LoadFromFile();\n",
    "var kernel = Microsoft.SemanticKernel.Kernel.CreateBuilder()\n",
    "            .AddAzureOpenAIChatCompletion(\n",
    "                model,   // deployment name\n",
    "                azureEndpoint, // Azure OpenAI Endpoint\n",
    "                apiKey)      // Azure OpenAI Key\n",
    "            .Build();"
   ]
  },
  {
   "cell_type": "markdown",
   "metadata": {},
   "source": [
    "Prompt intent"
   ]
  },
  {
   "cell_type": "code",
   "execution_count": 3,
   "metadata": {
    "dotnet_interactive": {
     "language": "csharp"
    },
    "polyglot_notebook": {
     "kernelName": "csharp"
    },
    "vscode": {
     "languageId": "polyglot-notebook"
    }
   },
   "outputs": [
    {
     "name": "stdout",
     "output_type": "stream",
     "text": [
      "The intent of this request is to find all countries whose name begins with the letter \"K\".\r\n"
     ]
    }
   ],
   "source": [
    "string request = \"Find all countries whose name begins with K\";\n",
    "string prompt = $\"What is the intent of this request? {request}\";\n",
    "Console.WriteLine(await kernel.InvokePromptAsync(prompt));"
   ]
  },
  {
   "cell_type": "markdown",
   "metadata": {},
   "source": [
    "Prompt with options"
   ]
  },
  {
   "cell_type": "code",
   "execution_count": 5,
   "metadata": {
    "dotnet_interactive": {
     "language": "csharp"
    },
    "polyglot_notebook": {
     "kernelName": "csharp"
    },
    "vscode": {
     "languageId": "polyglot-notebook"
    }
   },
   "outputs": [
    {
     "name": "stdout",
     "output_type": "stream",
     "text": [
      "LearnGeography\r\n"
     ]
    }
   ],
   "source": [
    "prompt = @$\"What is the intent of this request? {request}\n",
    "You can choose between SendEmail, SendMessage, CompleteTask, LearnGeography, None.\";\n",
    "Console.WriteLine(await kernel.InvokePromptAsync(prompt));"
   ]
  },
  {
   "cell_type": "markdown",
   "metadata": {},
   "source": [
    "Formatted prompt"
   ]
  },
  {
   "cell_type": "code",
   "execution_count": 9,
   "metadata": {
    "dotnet_interactive": {
     "language": "csharp"
    },
    "polyglot_notebook": {
     "kernelName": "csharp"
    },
    "vscode": {
     "languageId": "polyglot-notebook"
    }
   },
   "outputs": [
    {
     "name": "stdout",
     "output_type": "stream",
     "text": [
      "{\n",
      "    \"intent\": \"LearnGeography\"\n",
      "}\r\n"
     ]
    }
   ],
   "source": [
    "prompt = @$\"Instructions: What is the intent of this request?\n",
    "Choices: SendEmail, SendMessage, CompleteTask, LearnGeograpgy.\n",
    "User Input: {request}\n",
    "```json\n",
    "{{\n",
    "    \"\"intent\"\": \"\"intent\"\"\n",
    "}}\n",
    "``` \";\n",
    "Console.WriteLine(await kernel.InvokePromptAsync(prompt));"
   ]
  },
  {
   "cell_type": "markdown",
   "metadata": {},
   "source": [
    "Message roles"
   ]
  },
  {
   "cell_type": "code",
   "execution_count": 13,
   "metadata": {
    "dotnet_interactive": {
     "language": "csharp"
    },
    "polyglot_notebook": {
     "kernelName": "csharp"
    },
    "vscode": {
     "languageId": "polyglot-notebook"
    }
   },
   "outputs": [
    {
     "name": "stdout",
     "output_type": "stream",
     "text": [
      "Havet og havet er to forskellige vandområder. En hav er normalt en mindre saltvandskrop, der er omgivet af land og er forbundet til en eller flere oceaner. Hav er normalt mindre og kan findes inden for en kontinentalplade. Havene kan også være delvist omgivet af øer eller holme. Oceaner er derimod store og dybe saltvandsområder, der dækker størstedelen af jordens overflade. De er normalt opdelt i forskellige dele, f.eks. Atlanterhavet, Stillehavet, Det Indiske Ocean, det Arktiske Ocean og Det Sydlige Ocean. Således er hovedforskellen mellem hav og hav i deres størrelse, dybde og deres forbindelse til andre vandområder.\r\n"
     ]
    }
   ],
   "source": [
    "var system = @\"<message role=\"\"assistant\"\">The user is Danish. Respond in that language.</message>\";\n",
    "prompt = @$\"{system}. <message role=\"\"user\"\">What is the difference between ocean and sea?</message>\";\n",
    "Console.WriteLine(await kernel.InvokePromptAsync(prompt));"
   ]
  }
 ],
 "metadata": {
  "language_info": {
   "name": "python"
  }
 },
 "nbformat": 4,
 "nbformat_minor": 2
}
