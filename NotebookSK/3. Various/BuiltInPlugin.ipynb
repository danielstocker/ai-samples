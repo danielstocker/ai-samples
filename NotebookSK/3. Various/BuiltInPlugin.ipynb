{
 "cells": [
  {
   "cell_type": "markdown",
   "metadata": {},
   "source": [
    "## Use a built in plugin"
   ]
  },
  {
   "cell_type": "code",
   "execution_count": 10,
   "metadata": {
    "dotnet_interactive": {
     "language": "csharp"
    },
    "polyglot_notebook": {
     "kernelName": "csharp"
    },
    "vscode": {
     "languageId": "polyglot-notebook"
    }
   },
   "outputs": [
    {
     "data": {
      "text/html": [
       "<div><div></div><div></div><div><strong>Installed Packages</strong><ul><li><span>Microsoft.SemanticKernel, 1.0.1</span></li><li><span>Microsoft.SemanticKernel.Plugins.Core, 1.0.1-alpha</span></li></ul></div></div>"
      ]
     },
     "metadata": {},
     "output_type": "display_data"
    }
   ],
   "source": [
    "#r \"nuget: Microsoft.SemanticKernel, 1.0.1\"\n",
    "#r \"nuget: Microsoft.SemanticKernel.Plugins.Core, 1.0.1-alpha\"\n"
   ]
  },
  {
   "cell_type": "code",
   "execution_count": 13,
   "metadata": {
    "vscode": {
     "languageId": "polyglot-notebook"
    }
   },
   "outputs": [
    {
     "name": "stdout",
     "output_type": "stream",
     "text": [
      "{\n",
      "  \"current_time\": \"03:23:18 PM\",\n",
      "  \"is_morning\": false,\n",
      "  \"is_afternoon\": true,\n",
      "  \"is_evening\": false,\n",
      "  \"is_night\": false,\n",
      "  \"is_weekend\": false\n",
      "}\r\n"
     ]
    }
   ],
   "source": [
    "#!import ../config/Settings.cs\n",
    "\n",
    "using Microsoft.SemanticKernel;\n",
    "using Microsoft.SemanticKernel.Plugins.Core;\n",
    "using System.IO;\n",
    "\n",
    "var (useAzureOpenAI, model, azureEndpoint, apiKey, bingApiKey, orgId) = Settings.LoadFromFile();\n",
    "var kernel = Microsoft.SemanticKernel.Kernel.CreateBuilder()\n",
    "            .AddAzureOpenAIChatCompletion(\n",
    "                 model,   // deployment name\n",
    "                 azureEndpoint, // Azure OpenAI Endpoint\n",
    "                 apiKey)      // Azure OpenAI Key\n",
    "            .Build();\n",
    "\n",
    "#pragma warning disable SKEXP0050\n",
    "kernel.ImportPluginFromType<TimePlugin>();\n",
    "const string promptTemplate = @\"\n",
    "Today is: {{Date}}\n",
    "Current time is: {{Time}}\n",
    "\n",
    "Answer to the following questions using JSON syntax, including the data used.\n",
    "Is it morning, afternoon, evening, or night (morning/afternoon/evening/night)?\n",
    "Is it weekend time (weekend/not weekend)?\";\n",
    "\n",
    "        var results = await kernel.InvokePromptAsync(promptTemplate);\n",
    "        Console.WriteLine(results);"
   ]
  }
 ],
 "metadata": {
  "language_info": {
   "name": "python"
  }
 },
 "nbformat": 4,
 "nbformat_minor": 2
}
