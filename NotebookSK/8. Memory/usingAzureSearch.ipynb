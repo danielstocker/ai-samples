{
 "cells": [
  {
   "cell_type": "markdown",
   "metadata": {},
   "source": [
    "Using Azure OpenAI Search"
   ]
  },
  {
   "cell_type": "code",
   "execution_count": 1,
   "metadata": {
    "dotnet_interactive": {
     "language": "csharp"
    },
    "polyglot_notebook": {
     "kernelName": "csharp"
    },
    "vscode": {
     "languageId": "polyglot-notebook"
    }
   },
   "outputs": [
    {
     "data": {
      "text/html": [
       "<div><div></div><div></div><div><strong>Installed Packages</strong><ul><li><span>Microsoft.SemanticKernel, 1.6.2</span></li><li><span>Microsoft.SemanticKernel.Connectors.AzureAISearch, 1.6.2-alpha</span></li><li><span>Microsoft.SemanticKernel.Plugins.Memory, 1.6.2-alpha</span></li><li><span>System.Linq.Async, 6.0.1</span></li></ul></div></div>"
      ]
     },
     "metadata": {},
     "output_type": "display_data"
    }
   ],
   "source": [
    "#r \"nuget: Microsoft.SemanticKernel, 1.6.2\"\n",
    "#r \"nuget: Microsoft.SemanticKernel.Connectors.AzureAISearch, 1.6.2-alpha\"\n",
    "#r \"nuget: Microsoft.SemanticKernel.Plugins.Memory, 1.6.2-alpha\"\n",
    "#r \"nuget: System.Linq.Async, 6.0.1\"\n",
    "\n",
    "#!import ../config/Settings.cs\n",
    "\n",
    "using Microsoft.SemanticKernel;\n",
    "using Kernel = Microsoft.SemanticKernel.Kernel;\n",
    "using Microsoft.SemanticKernel.ChatCompletion;\n",
    "using Microsoft.SemanticKernel.Connectors.OpenAI;\n",
    "\n",
    "var (useAzureOpenAI, model, azureEndpoint, apiKey, bingApiKey, orgId) = Settings.LoadFromFile();\n",
    "#pragma warning disable SKEXP0010\n",
    "/* var config = new AzureOpenAIChatCompletionWithDataConfig\n",
    "        {\n",
    "            CompletionModelId = model,\n",
    "            CompletionEndpoint = azureEndpoint,\n",
    "            CompletionApiKey = apiKey,\n",
    "            DataSourceEndpoint = \"https://mropenaisearch.search.windows.net\",\n",
    "            DataSourceApiKey = Environment.GetEnvironmentVariable(\"AZURE_OPENAI_SEARCH_QUERYKEY\"),\n",
    "            DataSourceIndex = \"properties\"\n",
    "        }; */\n",
    "var kernel = Microsoft.SemanticKernel.Kernel.CreateBuilder()\n",
    "            .AddAzureOpenAIChatCompletion(\n",
    "                model,   // deployment name\n",
    "                azureEndpoint, // Azure OpenAI Endpoint\n",
    "                apiKey)      // Azure OpenAI Key\n",
    "            //.AddAzureOpenAIChatCompletion(config: config)\n",
    "            .Build();"
   ]
  },
  {
   "cell_type": "code",
   "execution_count": 14,
   "metadata": {
    "dotnet_interactive": {
     "language": "csharp"
    },
    "polyglot_notebook": {
     "kernelName": "csharp"
    },
    "vscode": {
     "languageId": "polyglot-notebook"
    }
   },
   "outputs": [],
   "source": [
    "using Microsoft.SemanticKernel.Memory;\n",
    "using Microsoft.SemanticKernel.Connectors.OpenAI;\n",
    "using Microsoft.SemanticKernel.Connectors.AzureAISearch;\n",
    "using Microsoft.SemanticKernel.Plugins.Memory;\n",
    "\n",
    "#pragma warning disable SKEXP0001, SKEXP0010, SKEXP0020\n",
    "var memory = new MemoryBuilder()\n",
    "    .WithAzureOpenAITextEmbeddingGeneration(\"mrtextembeddingada002\", azureEndpoint, apiKey)\n",
    "    .WithMemoryStore(new AzureAISearchMemoryStore(\"https://mropenaisearch.search.windows.net\", Environment.GetEnvironmentVariable(\"AZURE_OPENAI_SEARCH_QUERYKEY\")))\n",
    "    .Build();\n",
    "#pragma warning disable SKEXP0050  \n",
    "kernel.Plugins.Clear();\n",
    "kernel.ImportPluginFromObject(new TextMemoryPlugin(memory));         "
   ]
  },
  {
   "cell_type": "code",
   "execution_count": 8,
   "metadata": {
    "dotnet_interactive": {
     "language": "csharp"
    },
    "polyglot_notebook": {
     "kernelName": "csharp"
    },
    "vscode": {
     "languageId": "polyglot-notebook"
    }
   },
   "outputs": [
    {
     "name": "stdout",
     "output_type": "stream",
     "text": [
      "Ask: Looking for a small apartment with views of the ocean\n",
      "Response: I'm sorry, but as an AI language model, I don't have access to real-time data or the ability to directly interact with Azure Search. Therefore, I won't be able to provide you with specific information about apartments with ocean views using Azure Search data. I suggest using a real estate website or contacting a local real estate agent who may be able to assist you in finding a small apartment with ocean views.\n",
      "\n"
     ]
    }
   ],
   "source": [
    "var ask = \"Looking for a small apartment with views of the ocean\";\n",
    "var function = kernel.CreateFunctionFromPrompt(\"Question: {{$input}}. Use data returned from Azure Search {{recall $input}} to answer. If Azure Search does not return any data, respond: I don't know.\");\n",
    "var response = await kernel.InvokeAsync(function, new() { [\"input\"] = ask });\n",
    "Console.WriteLine($\"Ask: {ask}\");\n",
    "Console.WriteLine($\"Response: {response.GetValue<string>()}\");\n",
    "Console.WriteLine();"
   ]
  },
  {
   "cell_type": "code",
   "execution_count": 15,
   "metadata": {
    "dotnet_interactive": {
     "language": "csharp"
    },
    "polyglot_notebook": {
     "kernelName": "csharp"
    },
    "vscode": {
     "languageId": "polyglot-notebook"
    }
   },
   "outputs": [
    {
     "name": "stdout",
     "output_type": "stream",
     "text": [
      "Looking for a small apartment with views of water \r\n"
     ]
    }
   ],
   "source": [
    "var questions = new[]\n",
    "{\n",
    "    \"Looking for a small apartment with views of water\"\n",
    "};\n",
    "foreach (var q in questions)\n",
    "{\n",
    "    var response = await memory.SearchAsync(\"properties\", q, limit: 3, minRelevanceScore: 0.2, withEmbeddings: true).FirstOrDefaultAsync();\n",
    "    Console.WriteLine(q + \" \" + response?.Metadata.Text);\n",
    "}"
   ]
  }
 ],
 "metadata": {
  "kernelspec": {
   "display_name": ".NET (C#)",
   "language": "C#",
   "name": ".net-csharp"
  },
  "language_info": {
   "name": "python"
  },
  "polyglot_notebook": {
   "kernelInfo": {
    "defaultKernelName": "csharp",
    "items": [
     {
      "aliases": [],
      "name": "csharp"
     }
    ]
   }
  }
 },
 "nbformat": 4,
 "nbformat_minor": 2
}
