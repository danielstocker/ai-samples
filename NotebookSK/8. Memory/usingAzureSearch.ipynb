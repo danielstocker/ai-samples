{
 "cells": [
  {
   "cell_type": "markdown",
   "metadata": {},
   "source": [
    "Using Azure OpenAI Search"
   ]
  },
  {
   "cell_type": "code",
   "execution_count": 4,
   "metadata": {
    "dotnet_interactive": {
     "language": "csharp"
    },
    "polyglot_notebook": {
     "kernelName": "csharp"
    },
    "vscode": {
     "languageId": "polyglot-notebook"
    }
   },
   "outputs": [
    {
     "data": {
      "text/html": [
       "<div><div></div><div></div><div><strong>Installed Packages</strong><ul><li><span>Microsoft.SemanticKernel, 1.0.1</span></li><li><span>Microsoft.SemanticKernel.Connectors.AzureAISearch, 1.0.1-alpha</span></li><li><span>Microsoft.SemanticKernel.Plugins.Memory, 1.0.1-alpha</span></li><li><span>System.Linq.Async, 6.0.1</span></li></ul></div></div>"
      ]
     },
     "metadata": {},
     "output_type": "display_data"
    }
   ],
   "source": [
    "#r \"nuget: Microsoft.SemanticKernel, 1.0.1\"\n",
    "#r \"nuget: Microsoft.SemanticKernel.Plugins.Memory, 1.0.1-alpha\"\n",
    "#r \"nuget: Microsoft.SemanticKernel.Connectors.AzureAISearch, 1.0.1-alpha\"\n",
    "#r \"nuget: System.Linq.Async, 6.0.1\"\n",
    "\n",
    "#!import ../config/Settings.cs\n",
    "\n",
    "using Microsoft.SemanticKernel;\n",
    "using Kernel = Microsoft.SemanticKernel.Kernel;\n",
    "\n",
    "var (useAzureOpenAI, model, azureEndpoint, apiKey, bingApiKey, orgId) = Settings.LoadFromFile();\n",
    "var kernel = Microsoft.SemanticKernel.Kernel.CreateBuilder()\n",
    "            .AddAzureOpenAIChatCompletion(\n",
    "                model,   // deployment name\n",
    "                azureEndpoint, // Azure OpenAI Endpoint\n",
    "                apiKey)      // Azure OpenAI Key\n",
    "            .Build();"
   ]
  },
  {
   "cell_type": "code",
   "execution_count": 5,
   "metadata": {
    "dotnet_interactive": {
     "language": "csharp"
    },
    "polyglot_notebook": {
     "kernelName": "csharp"
    },
    "vscode": {
     "languageId": "polyglot-notebook"
    }
   },
   "outputs": [],
   "source": [
    "using Microsoft.SemanticKernel.Memory;\n",
    "using Microsoft.SemanticKernel.Connectors.OpenAI;\n",
    "using Microsoft.SemanticKernel.Connectors.AzureAISearch;\n",
    "\n",
    "#pragma warning disable SKEXP0003, SKEXP0011, SKEXP0021\n",
    "var memory = new MemoryBuilder()\n",
    "    .WithAzureOpenAITextEmbeddingGeneration(\"mrtextembeddingada002\", azureEndpoint, apiKey)\n",
    "    .WithMemoryStore(new AzureAISearchMemoryStore(\"https://mrsearch.search.windows.net\", Environment.GetEnvironmentVariable(\"AZURE_OPENAI_SEARCH_QUERYKEY\")))\n",
    "    .Build();"
   ]
  },
  {
   "cell_type": "code",
   "execution_count": 6,
   "metadata": {
    "vscode": {
     "languageId": "polyglot-notebook"
    }
   },
   "outputs": [
    {
     "ename": "Error",
     "evalue": "Azure.RequestFailedException: Unknown field 'Embedding' in vector field list.\r\nStatus: 400 (Bad Request)\r\nErrorCode: InvalidRequestParameter\r\n\r\nContent:\r\n{\"error\":{\"code\":\"InvalidRequestParameter\",\"message\":\"Unknown field 'Embedding' in vector field list.\",\"details\":[{\"code\":\"UnknownField\",\"message\":\"Unknown field 'Embedding' in vector field list.\"}]}}\r\n\r\nHeaders:\r\nCache-Control: no-cache,no-store\r\nPragma: no-cache\r\nServer: Microsoft-IIS/10.0\r\nclient-request-id: 29f11084-28a5-4b7e-a632-73c88daba9d4\r\nx-ms-client-request-id: 29f11084-28a5-4b7e-a632-73c88daba9d4\r\nrequest-id: 29f11084-28a5-4b7e-a632-73c88daba9d4\r\nelapsed-time: 38\r\nStrict-Transport-Security: REDACTED\r\nDate: Wed, 07 Feb 2024 09:24:13 GMT\r\nContent-Length: 200\r\nContent-Type: application/json; charset=utf-8\r\nContent-Language: REDACTED\r\nExpires: -1\r\n\r\n   at Azure.Search.Documents.SearchClient.SearchInternal[T](SearchOptions options, String operationName, Boolean async, CancellationToken cancellationToken)\r\n   at Azure.Search.Documents.SearchClient.SearchInternal[T](String searchText, SearchOptions options, Boolean async, CancellationToken cancellationToken)\r\n   at Azure.Search.Documents.SearchClient.SearchAsync[T](String searchText, SearchOptions options, CancellationToken cancellationToken)\r\n   at Microsoft.SemanticKernel.Connectors.AzureAISearch.AzureAISearchMemoryStore.<>c__DisplayClass11_0.<<GetNearestMatchesAsync>b__0>d.MoveNext()\r\n--- End of stack trace from previous location ---\r\n   at Microsoft.SemanticKernel.Connectors.AzureAISearch.AzureAISearchMemoryStore.GetNearestMatchesAsync(String collectionName, ReadOnlyMemory`1 embedding, Int32 limit, Double minRelevanceScore, Boolean withEmbeddings, CancellationToken cancellationToken)+MoveNext()\r\n   at Microsoft.SemanticKernel.Connectors.AzureAISearch.AzureAISearchMemoryStore.GetNearestMatchesAsync(String collectionName, ReadOnlyMemory`1 embedding, Int32 limit, Double minRelevanceScore, Boolean withEmbeddings, CancellationToken cancellationToken)+System.Threading.Tasks.Sources.IValueTaskSource<System.Boolean>.GetResult()\r\n   at Microsoft.SemanticKernel.Memory.SemanticTextMemory.SearchAsync(String collection, String query, Int32 limit, Double minRelevanceScore, Boolean withEmbeddings, Kernel kernel, CancellationToken cancellationToken)+MoveNext()\r\n   at Microsoft.SemanticKernel.Memory.SemanticTextMemory.SearchAsync(String collection, String query, Int32 limit, Double minRelevanceScore, Boolean withEmbeddings, Kernel kernel, CancellationToken cancellationToken)+MoveNext()\r\n   at Microsoft.SemanticKernel.Memory.SemanticTextMemory.SearchAsync(String collection, String query, Int32 limit, Double minRelevanceScore, Boolean withEmbeddings, Kernel kernel, CancellationToken cancellationToken)+System.Threading.Tasks.Sources.IValueTaskSource<System.Boolean>.GetResult()\r\n   at System.Linq.AsyncEnumerable.<TryGetFirst>g__Core|95_0[TSource](IAsyncEnumerable`1 source, CancellationToken cancellationToken) in /_/Ix.NET/Source/System.Linq.Async/System/Linq/Operators/FirstOrDefault.cs:line 130\r\n   at System.Linq.AsyncEnumerable.<TryGetFirst>g__Core|95_0[TSource](IAsyncEnumerable`1 source, CancellationToken cancellationToken) in /_/Ix.NET/Source/System.Linq.Async/System/Linq/Operators/FirstOrDefault.cs:line 132\r\n   at System.Linq.AsyncEnumerable.<FirstOrDefaultAsync>g__Core|91_0[TSource](IAsyncEnumerable`1 source, CancellationToken cancellationToken) in /_/Ix.NET/Source/System.Linq.Async/System/Linq/Operators/FirstOrDefault.cs:line 30\r\n   at Submission#8.<<Initialize>>d__0.MoveNext()\r\n--- End of stack trace from previous location ---\r\n   at Microsoft.CodeAnalysis.Scripting.ScriptExecutionState.RunSubmissionsAsync[TResult](ImmutableArray`1 precedingExecutors, Func`2 currentExecutor, StrongBox`1 exceptionHolderOpt, Func`2 catchExceptionOpt, CancellationToken cancellationToken)",
     "output_type": "error",
     "traceback": [
      "Azure.RequestFailedException: Unknown field 'Embedding' in vector field list.\r\n",
      "Status: 400 (Bad Request)\r\n",
      "ErrorCode: InvalidRequestParameter\r\n",
      "\r\n",
      "Content:\r\n",
      "{\"error\":{\"code\":\"InvalidRequestParameter\",\"message\":\"Unknown field 'Embedding' in vector field list.\",\"details\":[{\"code\":\"UnknownField\",\"message\":\"Unknown field 'Embedding' in vector field list.\"}]}}\r\n",
      "\r\n",
      "Headers:\r\n",
      "Cache-Control: no-cache,no-store\r\n",
      "Pragma: no-cache\r\n",
      "Server: Microsoft-IIS/10.0\r\n",
      "client-request-id: 29f11084-28a5-4b7e-a632-73c88daba9d4\r\n",
      "x-ms-client-request-id: 29f11084-28a5-4b7e-a632-73c88daba9d4\r\n",
      "request-id: 29f11084-28a5-4b7e-a632-73c88daba9d4\r\n",
      "elapsed-time: 38\r\n",
      "Strict-Transport-Security: REDACTED\r\n",
      "Date: Wed, 07 Feb 2024 09:24:13 GMT\r\n",
      "Content-Length: 200\r\n",
      "Content-Type: application/json; charset=utf-8\r\n",
      "Content-Language: REDACTED\r\n",
      "Expires: -1\r\n",
      "\r\n",
      "   at Azure.Search.Documents.SearchClient.SearchInternal[T](SearchOptions options, String operationName, Boolean async, CancellationToken cancellationToken)\r\n",
      "   at Azure.Search.Documents.SearchClient.SearchInternal[T](String searchText, SearchOptions options, Boolean async, CancellationToken cancellationToken)\r\n",
      "   at Azure.Search.Documents.SearchClient.SearchAsync[T](String searchText, SearchOptions options, CancellationToken cancellationToken)\r\n",
      "   at Microsoft.SemanticKernel.Connectors.AzureAISearch.AzureAISearchMemoryStore.<>c__DisplayClass11_0.<<GetNearestMatchesAsync>b__0>d.MoveNext()\r\n",
      "--- End of stack trace from previous location ---\r\n",
      "   at Microsoft.SemanticKernel.Connectors.AzureAISearch.AzureAISearchMemoryStore.GetNearestMatchesAsync(String collectionName, ReadOnlyMemory`1 embedding, Int32 limit, Double minRelevanceScore, Boolean withEmbeddings, CancellationToken cancellationToken)+MoveNext()\r\n",
      "   at Microsoft.SemanticKernel.Connectors.AzureAISearch.AzureAISearchMemoryStore.GetNearestMatchesAsync(String collectionName, ReadOnlyMemory`1 embedding, Int32 limit, Double minRelevanceScore, Boolean withEmbeddings, CancellationToken cancellationToken)+System.Threading.Tasks.Sources.IValueTaskSource<System.Boolean>.GetResult()\r\n",
      "   at Microsoft.SemanticKernel.Memory.SemanticTextMemory.SearchAsync(String collection, String query, Int32 limit, Double minRelevanceScore, Boolean withEmbeddings, Kernel kernel, CancellationToken cancellationToken)+MoveNext()\r\n",
      "   at Microsoft.SemanticKernel.Memory.SemanticTextMemory.SearchAsync(String collection, String query, Int32 limit, Double minRelevanceScore, Boolean withEmbeddings, Kernel kernel, CancellationToken cancellationToken)+MoveNext()\r\n",
      "   at Microsoft.SemanticKernel.Memory.SemanticTextMemory.SearchAsync(String collection, String query, Int32 limit, Double minRelevanceScore, Boolean withEmbeddings, Kernel kernel, CancellationToken cancellationToken)+System.Threading.Tasks.Sources.IValueTaskSource<System.Boolean>.GetResult()\r\n",
      "   at System.Linq.AsyncEnumerable.<TryGetFirst>g__Core|95_0[TSource](IAsyncEnumerable`1 source, CancellationToken cancellationToken) in /_/Ix.NET/Source/System.Linq.Async/System/Linq/Operators/FirstOrDefault.cs:line 130\r\n",
      "   at System.Linq.AsyncEnumerable.<TryGetFirst>g__Core|95_0[TSource](IAsyncEnumerable`1 source, CancellationToken cancellationToken) in /_/Ix.NET/Source/System.Linq.Async/System/Linq/Operators/FirstOrDefault.cs:line 132\r\n",
      "   at System.Linq.AsyncEnumerable.<FirstOrDefaultAsync>g__Core|91_0[TSource](IAsyncEnumerable`1 source, CancellationToken cancellationToken) in /_/Ix.NET/Source/System.Linq.Async/System/Linq/Operators/FirstOrDefault.cs:line 30\r\n",
      "   at Submission#8.<<Initialize>>d__0.MoveNext()\r\n",
      "--- End of stack trace from previous location ---\r\n",
      "   at Microsoft.CodeAnalysis.Scripting.ScriptExecutionState.RunSubmissionsAsync[TResult](ImmutableArray`1 precedingExecutors, Func`2 currentExecutor, StrongBox`1 exceptionHolderOpt, Func`2 catchExceptionOpt, CancellationToken cancellationToken)"
     ]
    }
   ],
   "source": [
    "var questions = new[]\n",
    "{\n",
    "    \"Application roles sample\"\n",
    "};\n",
    "foreach (var q in questions)\n",
    "{\n",
    "    var response = await memory.SearchAsync(\"vector-1707268868553\", q, limit: 2, minRelevanceScore: 0.8).FirstOrDefaultAsync();\n",
    "    Console.WriteLine(q + \" \" + response?.Metadata.Text);\n",
    "}"
   ]
  }
 ],
 "metadata": {
  "language_info": {
   "name": "python"
  }
 },
 "nbformat": 4,
 "nbformat_minor": 2
}
