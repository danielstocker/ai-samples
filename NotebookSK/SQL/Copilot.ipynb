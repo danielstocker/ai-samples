{
 "cells": [
  {
   "cell_type": "markdown",
   "metadata": {},
   "source": [
    "## Generate SQL query"
   ]
  },
  {
   "cell_type": "code",
   "execution_count": 3,
   "metadata": {
    "dotnet_interactive": {
     "language": "csharp"
    },
    "polyglot_notebook": {
     "kernelName": "csharp"
    },
    "vscode": {
     "languageId": "polyglot-notebook"
    }
   },
   "outputs": [
    {
     "data": {
      "text/html": [
       "<div><div></div><div></div><div><strong>Installed Packages</strong><ul><li><span>Microsoft.SemanticKernel, 1.5.0</span></li><li><span>Microsoft.SemanticKernel.Plugins.Memory, 1.5.0-alpha</span></li><li><span>System.Linq.Async, 6.0.1</span></li></ul></div></div>"
      ]
     },
     "metadata": {},
     "output_type": "display_data"
    }
   ],
   "source": [
    "#r \"nuget: Microsoft.SemanticKernel, 1.5.0\"\n",
    "#r \"nuget: Microsoft.SemanticKernel.Plugins.Memory, 1.5.0-alpha\"\n",
    "#r \"nuget: System.Linq.Async, 6.0.1\"\n",
    "\n",
    "#!import ../config/Settings.cs\n",
    "\n",
    "using Microsoft.SemanticKernel;\n",
    "using Kernel = Microsoft.SemanticKernel.Kernel;\n",
    "\n",
    "var (useAzureOpenAI, model, azureEndpoint, apiKey, bingApiKey, orgId) = Settings.LoadFromFile();\n",
    "var _kernel = Microsoft.SemanticKernel.Kernel.CreateBuilder()\n",
    "            .AddAzureOpenAIChatCompletion(\n",
    "                model,   // deployment name\n",
    "                azureEndpoint, // Azure OpenAI Endpoint\n",
    "                apiKey)      // Azure OpenAI Key\n",
    "            .Build();"
   ]
  },
  {
   "cell_type": "markdown",
   "metadata": {},
   "source": [
    "Build memory"
   ]
  },
  {
   "cell_type": "code",
   "execution_count": 6,
   "metadata": {
    "dotnet_interactive": {
     "language": "csharp"
    },
    "polyglot_notebook": {
     "kernelName": "csharp"
    },
    "vscode": {
     "languageId": "polyglot-notebook"
    }
   },
   "outputs": [],
   "source": [
    "using Microsoft.SemanticKernel.Memory;\n",
    "using Microsoft.SemanticKernel.Connectors.OpenAI;\n",
    "using Microsoft.SemanticKernel.Plugins.Memory;\n",
    "\n",
    "#pragma warning disable SKEXP0011, SKEXP0003, SKEXP0052\n",
    "var memoryBuilder = new MemoryBuilder();\n",
    "memoryBuilder.WithAzureOpenAITextEmbeddingGeneration(\n",
    "        \"mrtextembeddingada002\",\n",
    "        azureEndpoint, \n",
    "        apiKey)\n",
    "    .WithMemoryStore(new VolatileMemoryStore());   \n",
    "var _memory = memoryBuilder.Build();\n",
    "_kernel.ImportPluginFromObject(new TextMemoryPlugin(_memory));"
   ]
  },
  {
   "cell_type": "markdown",
   "metadata": {},
   "source": [
    "Database schema"
   ]
  },
  {
   "cell_type": "code",
   "execution_count": 12,
   "metadata": {
    "dotnet_interactive": {
     "language": "csharp"
    },
    "polyglot_notebook": {
     "kernelName": "csharp"
    },
    "vscode": {
     "languageId": "polyglot-notebook"
    }
   },
   "outputs": [],
   "source": [
    "const string MemoryCollectionName = \"tables\";\n",
    "\n",
    "await _memory.SaveInformationAsync(MemoryCollectionName, id: \"orders\", text: \n",
    "@\"Table name: orders\n",
    "Columns in order table: id, customerId, date, total\");\n",
    "await _memory.SaveInformationAsync(MemoryCollectionName, id: \"customer\", text: \n",
    "@\"Table: customers\n",
    "Columns in customers table: id, name, address\");"
   ]
  },
  {
   "cell_type": "markdown",
   "metadata": {},
   "source": [
    "Define system prompt"
   ]
  },
  {
   "cell_type": "code",
   "execution_count": 14,
   "metadata": {
    "dotnet_interactive": {
     "language": "csharp"
    },
    "polyglot_notebook": {
     "kernelName": "csharp"
    },
    "vscode": {
     "languageId": "polyglot-notebook"
    }
   },
   "outputs": [],
   "source": [
    "const string skPrompt = @\"\n",
    "Generate SQL query based on user input or ask for more details in case you need more information to generate the query. The generated query must specify names of columns to return rather than using the \"\"*\"\" (asterisk) operator.\n",
    "Use the schema to ensure only columns listed for each table are used in the query. Do not use column names not in the schema.\n",
    "If you don't have enough information for SQL query generation - respond with your question starting with \"\"ChatBot: \"\" prefix. For example: \"\"ChatBot: What details do you need about your customer?\"\".\n",
    "If you have enough information for SQL query generation - generate a query and return it starting with \"\"SQL: \"\" prefix. For example: \"\"SQL: SELECT FirstName, LastName FROM Contacts\"\". \n",
    "If the user input does not give you enough information about which columns to use in the query, respond with your question starting with \"\"ChatBot:\"\". \n",
    "\n",
    "Chat: {{$history}}\n",
    "User input: {{$userInput}}\n",
    "Schema: {{recall $userInput}}\n",
    "\n",
    "###\n",
    "# The following examples are for the SQLCopilot plugin\n",
    "\n",
    "userInput: Show customers in New York\n",
    "chatbot: ChatBot: What specific data do you want about these customers?\n",
    "\n",
    "userInput: List orders worth more than $100\n",
    "chatbot: ChatBot: what data do you need about those orders?\n",
    "\n",
    "userInput: List names of customers in Boston\n",
    "chatbot: SQL: SELECT name FROM customers WHERE city = 'Boston'\n",
    "\n",
    "userInput : List order ids for customer 123?\n",
    "chatbot: SQL: SELECT id FROM orders WHERE customerId = 123\n",
    "\n",
    "userInput: Who ordered product XYZ?\n",
    "chatbot: ChatBot: what data do you need about that customer?\n",
    "\n",
    "User: {{$userInput}}\n",
    "ChatBot: \";"
   ]
  },
  {
   "cell_type": "markdown",
   "metadata": {},
   "source": [
    "Questions"
   ]
  },
  {
   "cell_type": "code",
   "execution_count": 9,
   "metadata": {
    "dotnet_interactive": {
     "language": "csharp"
    },
    "polyglot_notebook": {
     "kernelName": "csharp"
    },
    "vscode": {
     "languageId": "polyglot-notebook"
    }
   },
   "outputs": [],
   "source": [
    "string[] queries = new string[]\n",
    "{\n",
    "    \"Show customers in Boston\",\n",
    "    \"List orders worth more than $100\",\n",
    "    \"List names of customers in Boston\",\n",
    "    \"List orders ids for customer 123\",\n",
    "    \"Who ordered product XYZ?\",\n",
    "    \"I need order data\"\n",
    "};"
   ]
  },
  {
   "cell_type": "markdown",
   "metadata": {},
   "source": [
    "Conduct conversation"
   ]
  },
  {
   "cell_type": "code",
   "execution_count": 13,
   "metadata": {
    "dotnet_interactive": {
     "language": "csharp"
    },
    "polyglot_notebook": {
     "kernelName": "csharp"
    },
    "vscode": {
     "languageId": "polyglot-notebook"
    }
   },
   "outputs": [
    {
     "name": "stdout",
     "output_type": "stream",
     "text": [
      ">Show customers in Boston\n",
      "ChatBot: What specific data do you want about these customers?\n",
      ">> names\n",
      "SQL: SELECT FirstName, LastName FROM Customers WHERE City = 'Boston'\n",
      ">List orders worth more than $100\n",
      "ChatBot: What specific data do you need about those orders?\n"
     ]
    },
    {
     "ename": "Error",
     "evalue": "Command cancelled.",
     "output_type": "error",
     "traceback": [
      "Command cancelled."
     ]
    }
   ],
   "source": [
    "#pragma warning disable SKEXP0003\n",
    "StringBuilder history = new StringBuilder();\n",
    "\n",
    "var chatFunction = _kernel.CreateFunctionFromPrompt(skPrompt, new OpenAIPromptExecutionSettings { MaxTokens = 200, Temperature = 0.8 });\n",
    "#pragma warning disable SKEXP0052\n",
    "var arguments = new KernelArguments();\n",
    "arguments[TextMemoryPlugin.CollectionParam] = MemoryCollectionName;\n",
    "arguments[TextMemoryPlugin.LimitParam] = \"2\";\n",
    "arguments[TextMemoryPlugin.RelevanceParam] = \"0.9\";\n",
    "foreach(var userInput in queries)\n",
    "{\n",
    "    //Console.Write('>');\n",
    "    //var userInput = Console.ReadLine();\n",
    "    //if (String.IsNullOrEmpty(userInput))\n",
    "    //{\n",
    "    //    break;\n",
    "    //}\n",
    "    Console.WriteLine($\">{userInput}\");\n",
    "    arguments[\"userInput\"] = userInput;\n",
    "    var answer = await chatFunction.InvokeAsync(_kernel, arguments);\n",
    "    history.Clear();\n",
    "    while(answer.ToString().StartsWith(\"ChatBot:\"))\n",
    "    {\n",
    "        Console.WriteLine(answer);\n",
    "        var inp = await InteractiveKernel.GetInputAsync(answer.ToString());\n",
    "        Console.WriteLine($\">> {inp}\");\n",
    "        var result = $\"\\nUser: {userInput}\\nChatBot: {answer}\\n\";\n",
    "        history.Append(result);\n",
    "        arguments[\"history\"] = history;\n",
    "        arguments[\"userInput\"] = inp;\n",
    "        answer = await chatFunction.InvokeAsync(_kernel, arguments);\n",
    "    }\n",
    "    Console.WriteLine(answer);\n",
    "};"
   ]
  }
 ],
 "metadata": {
  "language_info": {
   "name": "python"
  }
 },
 "nbformat": 4,
 "nbformat_minor": 2
}
