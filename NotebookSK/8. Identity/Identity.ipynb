{
 "cells": [
  {
   "cell_type": "markdown",
   "metadata": {},
   "source": [
    "## Advise re identity architecture"
   ]
  },
  {
   "cell_type": "markdown",
   "metadata": {},
   "source": [
    "Initialize"
   ]
  },
  {
   "cell_type": "code",
   "execution_count": 28,
   "metadata": {
    "vscode": {
     "languageId": "polyglot-notebook"
    }
   },
   "outputs": [
    {
     "data": {
      "text/html": [
       "<div><div></div><div></div><div><strong>Installed Packages</strong><ul><li><span>Microsoft.SemanticKernel, 1.0.1</span></li><li><span>Microsoft.SemanticKernel.Planners.Handlebars, 1.0.1-preview</span></li><li><span>Microsoft.SemanticKernel.Plugins.Core, 1.0.1-alpha</span></li></ul></div></div>"
      ]
     },
     "metadata": {},
     "output_type": "display_data"
    }
   ],
   "source": [
    "#r \"nuget: Microsoft.SemanticKernel, 1.0.1\"\n",
    "#r \"nuget: Microsoft.SemanticKernel.Planners.Handlebars, 1.0.1-preview\"\n",
    "#r \"nuget: Microsoft.SemanticKernel.Plugins.Core, 1.0.1-alpha\"\n",
    "\n",
    "#!import ../config/Settings.cs\n",
    "#!import ../Plugins/EmailPlugin.cs\n",
    "\n",
    "using Microsoft.SemanticKernel;\n",
    "using Microsoft.SemanticKernel.Planning.Handlebars;\n",
    "using Microsoft.SemanticKernel.Connectors.OpenAI;\n",
    "using Microsoft.SemanticKernel.Plugins.Core;\n",
    "\n",
    "var (useAzureOpenAI, model, azureEndpoint, apiKey, bingApiKey, orgId) = Settings.LoadFromFile();\n",
    "var kernel = Microsoft.SemanticKernel.Kernel.CreateBuilder()\n",
    "            .AddAzureOpenAIChatCompletion(\n",
    "                model,   // deployment name\n",
    "                azureEndpoint, // Azure OpenAI Endpoint\n",
    "                apiKey)      // Azure OpenAI Key\n",
    "            .Build();"
   ]
  },
  {
   "cell_type": "markdown",
   "metadata": {},
   "source": [
    "Load plugins"
   ]
  },
  {
   "cell_type": "code",
   "execution_count": 29,
   "metadata": {
    "vscode": {
     "languageId": "polyglot-notebook"
    }
   },
   "outputs": [
    {
     "name": "stdout",
     "output_type": "stream",
     "text": [
      "Loading $c:\\Users\\mrochon\\source\\repos\\ai-samples\\NotebookSK\\8. Identity\\..\\Plugins$IdentityPlugin\r\n"
     ]
    }
   ],
   "source": [
    "kernel.Plugins.Clear();\n",
    "var pluginPath = Path.Combine(System.IO.Directory.GetCurrentDirectory(), \"..\", \"Plugins\");\n",
    "foreach (var plugin in new string[] { \"IdentityPlugin\" })\n",
    "{\n",
    "    Console.WriteLine($\"Loading ${pluginPath}${plugin}\");\n",
    "    kernel.ImportPluginFromPromptDirectory(Path.Combine(pluginPath, plugin));\n",
    "}"
   ]
  },
  {
   "cell_type": "markdown",
   "metadata": {},
   "source": [
    "Show plan"
   ]
  },
  {
   "cell_type": "code",
   "execution_count": 32,
   "metadata": {
    "vscode": {
     "languageId": "polyglot-notebook"
    }
   },
   "outputs": [
    {
     "name": "stdout",
     "output_type": "stream",
     "text": [
      "Plan:\n",
      "\n",
      "{{set \"businessIdeas\" (array \"Coffee shop\" \"Food truck\" \"Boutique\" \"Web design agency\" \"Fitness studio\" \"Event planning\" \"Pet grooming\" \"Craft brewery\" \"Virtual assistant service\" \"Tour guide\")}}\n",
      "   ```\n",
      "\n",
      "2. Generate a random number between 0 and the length of the businessIdeas array.\n",
      "   ```handlebars\n",
      "   {{set \"randomIndex\" (Example-Random seed=(range 0 (Subtract (array.length businessIdeas) 1)))}}\n",
      "   ```\n",
      "\n",
      "3. Retrieve the suggested business idea based on the random index.\n",
      "   ```handlebars\n",
      "   {{set \"suggestedIdea\" (array.at businessIdeas randomIndex)}}\n",
      "   ```\n",
      "\n",
      "4. Output the suggested business idea to the template.\n",
      "   ```handlebars\n",
      "   {{json (concat \"You should start a \" suggestedIdea)}}\n"
     ]
    }
   ],
   "source": [
    "var goal = File.ReadAllText(\"SimpleSystem.txt\");\n",
    "#pragma warning disable SKEXP0060\n",
    "var planner = new HandlebarsPlanner();\n",
    "var plan = await planner.CreatePlanAsync(kernel, goal);\n",
    "Console.WriteLine(\"Plan:\\n\");\n",
    "Console.WriteLine(plan.ToString());"
   ]
  },
  {
   "cell_type": "markdown",
   "metadata": {},
   "source": [
    "Execute the plan"
   ]
  },
  {
   "cell_type": "code",
   "execution_count": 33,
   "metadata": {
    "dotnet_interactive": {
     "language": "csharp"
    },
    "polyglot_notebook": {
     "kernelName": "csharp"
    },
    "vscode": {
     "languageId": "polyglot-notebook"
    }
   },
   "outputs": [
    {
     "ename": "Error",
     "evalue": "HandlebarsDotNet.HandlebarsCompilerException: An unhandled exception occurred while trying to compile the template\r\n ---> HandlebarsDotNet.HandlebarsCompilerException: An unhandled exception occurred while trying to compile the template\r\n ---> HandlebarsDotNet.HandlebarsCompilerException: Sub-expression does not contain a converted MethodCall expression\r\n   at HandlebarsDotNet.Compiler.SubExpressionVisitor.VisitSubExpression(SubExpressionExpression subex)\r\n   at HandlebarsDotNet.Compiler.FunctionBuilder.Reduce(Expression expression, CompilationContext context, IReadOnlyList`1& decorators)\r\n   at HandlebarsDotNet.Compiler.FunctionBinderHelpers.<>c__DisplayClass2_0.<CreateArguments>b__1(Expression o)\r\n   at System.Linq.Enumerable.SelectEnumerableIterator`2.ToArray()\r\n   at HandlebarsDotNet.Compiler.FunctionBinderHelpers.CreateArguments(IEnumerable`1 expressions, CompilationContext compilationContext)\r\n   at HandlebarsDotNet.Compiler.HelperFunctionBinder.VisitHelperExpression(HelperExpression hex)\r\n   at HandlebarsDotNet.Compiler.HandlebarsExpressionVisitor.VisitSubExpression(SubExpressionExpression subex)\r\n   at HandlebarsDotNet.Compiler.FunctionBuilder.Reduce(Expression expression, CompilationContext context, IReadOnlyList`1& decorators)\r\n   at HandlebarsDotNet.Compiler.FunctionBinderHelpers.<>c__DisplayClass2_0.<CreateArguments>b__1(Expression o)\r\n   at System.Linq.Enumerable.SelectEnumerableIterator`2.ToArray()\r\n   at HandlebarsDotNet.Compiler.FunctionBinderHelpers.CreateArguments(IEnumerable`1 expressions, CompilationContext compilationContext)\r\n   at HandlebarsDotNet.Compiler.HelperFunctionBinder.VisitHelperExpression(HelperExpression hex)\r\n   at HandlebarsDotNet.Compiler.HandlebarsExpressionVisitor.VisitSubExpression(SubExpressionExpression subex)\r\n   at HandlebarsDotNet.Compiler.HandlebarsExpressionVisitor.VisitHashParametersExpression(HashParametersExpression hpex)\r\n   at HandlebarsDotNet.Compiler.FunctionBuilder.Reduce(Expression expression, CompilationContext context, IReadOnlyList`1& decorators)\r\n   at HandlebarsDotNet.Compiler.FunctionBinderHelpers.<>c__DisplayClass2_0.<CreateArguments>b__1(Expression o)\r\n   at System.Linq.Enumerable.SelectEnumerableIterator`2.ToArray()\r\n   at HandlebarsDotNet.Compiler.FunctionBinderHelpers.CreateArguments(IEnumerable`1 expressions, CompilationContext compilationContext)\r\n   at HandlebarsDotNet.Compiler.HelperFunctionBinder.VisitHelperExpression(HelperExpression hex)\r\n   at HandlebarsDotNet.Compiler.HandlebarsExpressionVisitor.VisitSubExpression(SubExpressionExpression subex)\r\n   at HandlebarsDotNet.Compiler.FunctionBuilder.Reduce(Expression expression, CompilationContext context, IReadOnlyList`1& decorators)\r\n   at HandlebarsDotNet.Compiler.FunctionBinderHelpers.<>c__DisplayClass2_0.<CreateArguments>b__1(Expression o)\r\n   at System.Linq.Enumerable.SelectEnumerableIterator`2.ToArray()\r\n   at HandlebarsDotNet.Compiler.FunctionBinderHelpers.CreateArguments(IEnumerable`1 expressions, CompilationContext compilationContext)\r\n   at HandlebarsDotNet.Compiler.HelperFunctionBinder.VisitHelperExpression(HelperExpression hex)\r\n   at System.Dynamic.Utils.ExpressionVisitorUtils.VisitBlockExpressions(ExpressionVisitor visitor, BlockExpression block)\r\n   at System.Linq.Expressions.ExpressionVisitor.VisitBlock(BlockExpression node)\r\n   at HandlebarsDotNet.Compiler.FunctionBuilder.Reduce(Expression expression, CompilationContext context, IReadOnlyList`1& decorators)\r\n   at HandlebarsDotNet.Compiler.FunctionBuilder.CreateExpression(IEnumerable`1 expressions, CompilationContext compilationContext, IReadOnlyList`1& decorators)\r\n   --- End of inner exception stack trace ---\r\n   at HandlebarsDotNet.Compiler.FunctionBuilder.CreateExpression(IEnumerable`1 expressions, CompilationContext compilationContext, IReadOnlyList`1& decorators)\r\n   at HandlebarsDotNet.Compiler.FunctionBuilder.Compile(IEnumerable`1 expressions, CompilationContext compilationContext, IReadOnlyList`1& decorators)\r\n   --- End of inner exception stack trace ---\r\n   at HandlebarsDotNet.Compiler.FunctionBuilder.Compile(IEnumerable`1 expressions, CompilationContext compilationContext, IReadOnlyList`1& decorators)\r\n   at HandlebarsDotNet.Compiler.HandlebarsCompiler.Compile(ExtendedStringReader source, CompilationContext compilationContext)\r\n   at HandlebarsDotNet.HandlebarsEnvironment.Compile(TextReader template)\r\n   at HandlebarsDotNet.HandlebarsEnvironment.Compile(String template)\r\n   at Microsoft.SemanticKernel.PromptTemplates.Handlebars.HandlebarsPromptTemplate.RenderAsync(Kernel kernel, KernelArguments arguments, CancellationToken cancellationToken)\r\n   at Microsoft.SemanticKernel.Planning.Handlebars.HandlebarsPlan.InvokeCoreAsync(Kernel kernel, KernelArguments arguments, CancellationToken cancellationToken)\r\n   at Microsoft.SemanticKernel.Planning.PlannerInstrumentation.InvokePlanAsync[TPlan,TPlanInput,TPlanResult](Func`5 InvokePlanAsync, TPlan plan, Kernel kernel, TPlanInput input, ILogger logger, CancellationToken cancellationToken)\r\n   at Submission#42.<<Initialize>>d__0.MoveNext()\r\n--- End of stack trace from previous location ---\r\n   at Microsoft.CodeAnalysis.Scripting.ScriptExecutionState.RunSubmissionsAsync[TResult](ImmutableArray`1 precedingExecutors, Func`2 currentExecutor, StrongBox`1 exceptionHolderOpt, Func`2 catchExceptionOpt, CancellationToken cancellationToken)",
     "output_type": "error",
     "traceback": [
      "HandlebarsDotNet.HandlebarsCompilerException: An unhandled exception occurred while trying to compile the template\r\n",
      " ---> HandlebarsDotNet.HandlebarsCompilerException: An unhandled exception occurred while trying to compile the template\r\n",
      " ---> HandlebarsDotNet.HandlebarsCompilerException: Sub-expression does not contain a converted MethodCall expression\r\n",
      "   at HandlebarsDotNet.Compiler.SubExpressionVisitor.VisitSubExpression(SubExpressionExpression subex)\r\n",
      "   at HandlebarsDotNet.Compiler.FunctionBuilder.Reduce(Expression expression, CompilationContext context, IReadOnlyList`1& decorators)\r\n",
      "   at HandlebarsDotNet.Compiler.FunctionBinderHelpers.<>c__DisplayClass2_0.<CreateArguments>b__1(Expression o)\r\n",
      "   at System.Linq.Enumerable.SelectEnumerableIterator`2.ToArray()\r\n",
      "   at HandlebarsDotNet.Compiler.FunctionBinderHelpers.CreateArguments(IEnumerable`1 expressions, CompilationContext compilationContext)\r\n",
      "   at HandlebarsDotNet.Compiler.HelperFunctionBinder.VisitHelperExpression(HelperExpression hex)\r\n",
      "   at HandlebarsDotNet.Compiler.HandlebarsExpressionVisitor.VisitSubExpression(SubExpressionExpression subex)\r\n",
      "   at HandlebarsDotNet.Compiler.FunctionBuilder.Reduce(Expression expression, CompilationContext context, IReadOnlyList`1& decorators)\r\n",
      "   at HandlebarsDotNet.Compiler.FunctionBinderHelpers.<>c__DisplayClass2_0.<CreateArguments>b__1(Expression o)\r\n",
      "   at System.Linq.Enumerable.SelectEnumerableIterator`2.ToArray()\r\n",
      "   at HandlebarsDotNet.Compiler.FunctionBinderHelpers.CreateArguments(IEnumerable`1 expressions, CompilationContext compilationContext)\r\n",
      "   at HandlebarsDotNet.Compiler.HelperFunctionBinder.VisitHelperExpression(HelperExpression hex)\r\n",
      "   at HandlebarsDotNet.Compiler.HandlebarsExpressionVisitor.VisitSubExpression(SubExpressionExpression subex)\r\n",
      "   at HandlebarsDotNet.Compiler.HandlebarsExpressionVisitor.VisitHashParametersExpression(HashParametersExpression hpex)\r\n",
      "   at HandlebarsDotNet.Compiler.FunctionBuilder.Reduce(Expression expression, CompilationContext context, IReadOnlyList`1& decorators)\r\n",
      "   at HandlebarsDotNet.Compiler.FunctionBinderHelpers.<>c__DisplayClass2_0.<CreateArguments>b__1(Expression o)\r\n",
      "   at System.Linq.Enumerable.SelectEnumerableIterator`2.ToArray()\r\n",
      "   at HandlebarsDotNet.Compiler.FunctionBinderHelpers.CreateArguments(IEnumerable`1 expressions, CompilationContext compilationContext)\r\n",
      "   at HandlebarsDotNet.Compiler.HelperFunctionBinder.VisitHelperExpression(HelperExpression hex)\r\n",
      "   at HandlebarsDotNet.Compiler.HandlebarsExpressionVisitor.VisitSubExpression(SubExpressionExpression subex)\r\n",
      "   at HandlebarsDotNet.Compiler.FunctionBuilder.Reduce(Expression expression, CompilationContext context, IReadOnlyList`1& decorators)\r\n",
      "   at HandlebarsDotNet.Compiler.FunctionBinderHelpers.<>c__DisplayClass2_0.<CreateArguments>b__1(Expression o)\r\n",
      "   at System.Linq.Enumerable.SelectEnumerableIterator`2.ToArray()\r\n",
      "   at HandlebarsDotNet.Compiler.FunctionBinderHelpers.CreateArguments(IEnumerable`1 expressions, CompilationContext compilationContext)\r\n",
      "   at HandlebarsDotNet.Compiler.HelperFunctionBinder.VisitHelperExpression(HelperExpression hex)\r\n",
      "   at System.Dynamic.Utils.ExpressionVisitorUtils.VisitBlockExpressions(ExpressionVisitor visitor, BlockExpression block)\r\n",
      "   at System.Linq.Expressions.ExpressionVisitor.VisitBlock(BlockExpression node)\r\n",
      "   at HandlebarsDotNet.Compiler.FunctionBuilder.Reduce(Expression expression, CompilationContext context, IReadOnlyList`1& decorators)\r\n",
      "   at HandlebarsDotNet.Compiler.FunctionBuilder.CreateExpression(IEnumerable`1 expressions, CompilationContext compilationContext, IReadOnlyList`1& decorators)\r\n",
      "   --- End of inner exception stack trace ---\r\n",
      "   at HandlebarsDotNet.Compiler.FunctionBuilder.CreateExpression(IEnumerable`1 expressions, CompilationContext compilationContext, IReadOnlyList`1& decorators)\r\n",
      "   at HandlebarsDotNet.Compiler.FunctionBuilder.Compile(IEnumerable`1 expressions, CompilationContext compilationContext, IReadOnlyList`1& decorators)\r\n",
      "   --- End of inner exception stack trace ---\r\n",
      "   at HandlebarsDotNet.Compiler.FunctionBuilder.Compile(IEnumerable`1 expressions, CompilationContext compilationContext, IReadOnlyList`1& decorators)\r\n",
      "   at HandlebarsDotNet.Compiler.HandlebarsCompiler.Compile(ExtendedStringReader source, CompilationContext compilationContext)\r\n",
      "   at HandlebarsDotNet.HandlebarsEnvironment.Compile(TextReader template)\r\n",
      "   at HandlebarsDotNet.HandlebarsEnvironment.Compile(String template)\r\n",
      "   at Microsoft.SemanticKernel.PromptTemplates.Handlebars.HandlebarsPromptTemplate.RenderAsync(Kernel kernel, KernelArguments arguments, CancellationToken cancellationToken)\r\n",
      "   at Microsoft.SemanticKernel.Planning.Handlebars.HandlebarsPlan.InvokeCoreAsync(Kernel kernel, KernelArguments arguments, CancellationToken cancellationToken)\r\n",
      "   at Microsoft.SemanticKernel.Planning.PlannerInstrumentation.InvokePlanAsync[TPlan,TPlanInput,TPlanResult](Func`5 InvokePlanAsync, TPlan plan, Kernel kernel, TPlanInput input, ILogger logger, CancellationToken cancellationToken)\r\n",
      "   at Submission#42.<<Initialize>>d__0.MoveNext()\r\n",
      "--- End of stack trace from previous location ---\r\n",
      "   at Microsoft.CodeAnalysis.Scripting.ScriptExecutionState.RunSubmissionsAsync[TResult](ImmutableArray`1 precedingExecutors, Func`2 currentExecutor, StrongBox`1 exceptionHolderOpt, Func`2 catchExceptionOpt, CancellationToken cancellationToken)"
     ]
    }
   ],
   "source": [
    "#pragma warning disable SKEXP0060\n",
    "var resp = await plan.InvokeAsync(kernel);\n",
    "Console.WriteLine(\"Result:\\n\");\n",
    "Console.WriteLine(resp);"
   ]
  }
 ],
 "metadata": {
  "language_info": {
   "name": "python"
  }
 },
 "nbformat": 4,
 "nbformat_minor": 2
}
