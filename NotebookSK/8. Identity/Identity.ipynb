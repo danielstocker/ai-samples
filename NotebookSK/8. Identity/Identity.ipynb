{
 "cells": [
  {
   "cell_type": "markdown",
   "metadata": {},
   "source": [
    "## Advise re identity architecture"
   ]
  },
  {
   "cell_type": "markdown",
   "metadata": {},
   "source": [
    "Initialize"
   ]
  },
  {
   "cell_type": "code",
   "execution_count": 1,
   "metadata": {
    "dotnet_interactive": {
     "language": "csharp"
    },
    "polyglot_notebook": {
     "kernelName": "csharp"
    },
    "vscode": {
     "languageId": "polyglot-notebook"
    }
   },
   "outputs": [
    {
     "data": {
      "text/html": [
       "<div><div></div><div></div><div><strong>Installed Packages</strong><ul><li><span>Microsoft.SemanticKernel, 1.0.1</span></li><li><span>Microsoft.SemanticKernel.Planners.Handlebars, 1.0.1-preview</span></li><li><span>Microsoft.SemanticKernel.Plugins.Core, 1.0.1-alpha</span></li></ul></div></div>"
      ]
     },
     "metadata": {},
     "output_type": "display_data"
    }
   ],
   "source": [
    "#r \"nuget: Microsoft.SemanticKernel, 1.0.1\"\n",
    "#r \"nuget: Microsoft.SemanticKernel.Planners.Handlebars, 1.0.1-preview\"\n",
    "#r \"nuget: Microsoft.SemanticKernel.Plugins.Core, 1.0.1-alpha\"\n",
    "\n",
    "#!import ../config/Settings.cs\n",
    "#!import ../Plugins/EmailPlugin.cs\n",
    "\n",
    "using Microsoft.SemanticKernel;\n",
    "using Microsoft.SemanticKernel.Planning.Handlebars;\n",
    "using Microsoft.SemanticKernel.Connectors.OpenAI;\n",
    "using Microsoft.SemanticKernel.Plugins.Core;\n",
    "\n",
    "var (useAzureOpenAI, model, azureEndpoint, apiKey, bingApiKey, orgId) = Settings.LoadFromFile();\n",
    "var kernel = Microsoft.SemanticKernel.Kernel.CreateBuilder()\n",
    "            .AddAzureOpenAIChatCompletion(\n",
    "                model,   // deployment name\n",
    "                azureEndpoint, // Azure OpenAI Endpoint\n",
    "                apiKey)      // Azure OpenAI Key\n",
    "            .Build();"
   ]
  },
  {
   "cell_type": "markdown",
   "metadata": {},
   "source": [
    "Load plugins"
   ]
  },
  {
   "cell_type": "code",
   "execution_count": 2,
   "metadata": {
    "dotnet_interactive": {
     "language": "csharp"
    },
    "polyglot_notebook": {
     "kernelName": "csharp"
    },
    "vscode": {
     "languageId": "polyglot-notebook"
    }
   },
   "outputs": [
    {
     "name": "stdout",
     "output_type": "stream",
     "text": [
      "Loading $c:\\Users\\mrochon\\source\\repos\\ai-samples\\NotebookSK\\8. Identity\\..\\Plugins$IdentityPlugin\r\n"
     ]
    }
   ],
   "source": [
    "kernel.Plugins.Clear();\n",
    "var pluginPath = Path.Combine(System.IO.Directory.GetCurrentDirectory(), \"..\", \"Plugins\");\n",
    "foreach (var plugin in new string[] { \"IdentityPlugin\" })\n",
    "{\n",
    "    Console.WriteLine($\"Loading ${pluginPath}${plugin}\");\n",
    "    kernel.ImportPluginFromPromptDirectory(Path.Combine(pluginPath, plugin));\n",
    "}"
   ]
  },
  {
   "cell_type": "markdown",
   "metadata": {},
   "source": [
    "Create and save plan"
   ]
  },
  {
   "cell_type": "code",
   "execution_count": 3,
   "metadata": {
    "dotnet_interactive": {
     "language": "csharp"
    },
    "polyglot_notebook": {
     "kernelName": "csharp"
    },
    "vscode": {
     "languageId": "polyglot-notebook"
    }
   },
   "outputs": [
    {
     "name": "stdout",
     "output_type": "stream",
     "text": [
      "Plan:\n",
      "\n",
      "{{!-- Step 1: Create variable to store the system description --}}\n",
      "{{set \"systemDescription\" \"a single web application showing html content\"}}\n",
      "\n",
      "{{!-- Step 2: Call IdentityPlugin-Applications helper to get the list of application types --}}\n",
      "{{set \"applicationTypes\" (IdentityPlugin-Applications)}}\n",
      "\n",
      "{{!-- Step 3: Print the system description --}}\n",
      "System Description: {{systemDescription}}\n",
      "\n",
      "{{!-- Step 4: Loop through the application types and print them --}}\n",
      "Application Types:\n",
      "{{#each applicationTypes}}\n",
      "- {{this}}\n",
      "{{/each}}\n"
     ]
    }
   ],
   "source": [
    "var goal = File.ReadAllText(\"SimpleSystem.txt\");\n",
    "#pragma warning disable SKEXP0060\n",
    "var planner = new HandlebarsPlanner();\n",
    "var plan = await planner.CreatePlanAsync(kernel, goal);\n",
    "Console.WriteLine(\"Plan:\\n\");\n",
    "Console.WriteLine(plan.ToString());\n",
    "File.WriteAllText(\"./plan.txt\", plan.ToString());"
   ]
  },
  {
   "cell_type": "markdown",
   "metadata": {},
   "source": [
    "If needed, modify plan in ./plan.txt, then load and execute plan with a new goal."
   ]
  },
  {
   "cell_type": "code",
   "execution_count": 7,
   "metadata": {
    "dotnet_interactive": {
     "language": "csharp"
    },
    "polyglot_notebook": {
     "kernelName": "csharp"
    },
    "vscode": {
     "languageId": "polyglot-notebook"
    }
   },
   "outputs": [
    {
     "name": "stdout",
     "output_type": "stream",
     "text": [
      "Result:\n",
      "\n",
      "System Description: a single web application showing html content\n",
      "\n",
      "Application Types:\n",
      "- 44\n"
     ]
    }
   ],
   "source": [
    "#pragma warning disable SKEXP0060\n",
    "var myPlan = new HandlebarsPlan(File.ReadAllText(\"./plan.txt\"));\n",
    "#pragma warning disable SKEXP0060\n",
    "var resp = await plan.InvokeAsync(kernel);\n",
    "Console.WriteLine(\"Result:\\n\");\n",
    "Console.WriteLine(resp);"
   ]
  }
 ],
 "metadata": {
  "language_info": {
   "name": "python"
  }
 },
 "nbformat": 4,
 "nbformat_minor": 2
}
