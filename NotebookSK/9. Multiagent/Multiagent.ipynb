{
 "cells": [
  {
   "cell_type": "markdown",
   "metadata": {},
   "source": [
    "[Multi-agent demo](https://github.com/microsoft/semantic-kernel/blob/sk-autogen/python/notebooks/05-using-the-planner.ipynb)"
   ]
  },
  {
   "cell_type": "code",
   "execution_count": 1,
   "metadata": {},
   "outputs": [],
   "source": [
    "# Install packages in the current Jupyter kernel (current python environment)\n",
    "\n",
    "import sys\n",
    "!{sys.executable} -m pip install --disable-pip-version-check -q semantic-kernel==0.3.14.dev0 pyautogen==0.1.14 python-dotenv==1.0."
   ]
  },
  {
   "cell_type": "code",
   "execution_count": 7,
   "metadata": {},
   "outputs": [
    {
     "name": "stdout",
     "output_type": "stream",
     "text": [
      "mrdeployment01\n",
      "1292f946c13f4b32890e9f44f9b9703f\n",
      "Configuration ready.\n"
     ]
    }
   ],
   "source": [
    "# Load credentials and settings from .env file\n",
    "\n",
    "import dotenv, pathlib, os\n",
    "\n",
    "dotenv.load_dotenv(dotenv_path=pathlib.Path(\".\") / \".env\")\n",
    "\n",
    "bing_api_key = os.getenv(\"BING_API_KEY\")\n",
    "\n",
    "llm_config = {\n",
    "    \"type\": \"azure\",  # \"azure\" or \"openai\"\n",
    "    \"openai_api_key\": os.getenv(\"OPENAI_API_KEY\"),\n",
    "    \"azure_deployment\": os.getenv(\"AZURE_OPENAI_DEPLOYMENT\"),\n",
    "    \"azure_api_key\": os.getenv(\"AZURE_OPENAI_API_KEY\"),\n",
    "    \"azure_endpoint\": os.getenv(\"AZURE_OPENAI_ENDPOINT\"),\n",
    "}\n",
    "\n",
    "print( os.getenv(\"AZURE_OPENAI_DEPLOYMENT\"))\n",
    "print( os.getenv(\"OPENAI_API_KEY\"))\n",
    "print(\"Configuration ready.\")"
   ]
  },
  {
   "cell_type": "code",
   "execution_count": 8,
   "metadata": {},
   "outputs": [
    {
     "name": "stdout",
     "output_type": "stream",
     "text": [
      "Kernel ready.\n"
     ]
    }
   ],
   "source": [
    "# Load Semantic Kernel\n",
    "import semantic_kernel\n",
    "\n",
    "kernel = semantic_kernel.Kernel()\n",
    "\n",
    "print(\"Kernel ready.\")"
   ]
  },
  {
   "cell_type": "code",
   "execution_count": 9,
   "metadata": {},
   "outputs": [
    {
     "ename": "ModuleNotFoundError",
     "evalue": "No module named 'plugins'",
     "output_type": "error",
     "traceback": [
      "\u001b[1;31m---------------------------------------------------------------------------\u001b[0m",
      "\u001b[1;31mModuleNotFoundError\u001b[0m                       Traceback (most recent call last)",
      "Cell \u001b[1;32mIn[9], line 2\u001b[0m\n\u001b[0;32m      1\u001b[0m \u001b[38;5;66;03m# Load Plugins\u001b[39;00m\n\u001b[1;32m----> 2\u001b[0m \u001b[38;5;28;01mfrom\u001b[39;00m \u001b[38;5;21;01mplugins\u001b[39;00m\u001b[38;5;21;01m.\u001b[39;00m\u001b[38;5;21;01msk_bing_plugin\u001b[39;00m \u001b[38;5;28;01mimport\u001b[39;00m BingPlugin\n\u001b[0;32m      3\u001b[0m \u001b[38;5;28;01mfrom\u001b[39;00m \u001b[38;5;21;01mplugins\u001b[39;00m\u001b[38;5;21;01m.\u001b[39;00m\u001b[38;5;21;01msk_web_pages_plugin\u001b[39;00m \u001b[38;5;28;01mimport\u001b[39;00m WebPagesPlugin\n\u001b[0;32m      4\u001b[0m \u001b[38;5;28;01mfrom\u001b[39;00m \u001b[38;5;21;01mplugins\u001b[39;00m\u001b[38;5;21;01m.\u001b[39;00m\u001b[38;5;21;01msk_email_plugin\u001b[39;00m \u001b[38;5;28;01mimport\u001b[39;00m EmailPlugin\n",
      "\u001b[1;31mModuleNotFoundError\u001b[0m: No module named 'plugins'"
     ]
    }
   ],
   "source": [
    "# Load Plugins\n",
    "from plugins.sk_bing_plugin import BingPlugin\n",
    "from plugins.sk_web_pages_plugin import WebPagesPlugin\n",
    "from plugins.sk_email_plugin import EmailPlugin\n",
    "\n",
    "kernel.import_skill(BingPlugin(bing_api_key))\n",
    "\n",
    "kernel.import_skill(WebPagesPlugin())\n",
    "\n",
    "# kernel.import_skill(EmailPlugin(email=\"...\", password=\"...\", server=\"...\" ))\n",
    "kernel.import_skill(\n",
    "    EmailPlugin(\n",
    "        gmail_api_credentials=\"plugins/gmail_credentials.json\",\n",
    "        gmail_api_token=\"plugins/gmail_token.json\",\n",
    "    )\n",
    ")\n",
    "\n",
    "\n",
    "print(\"Plugins ready.\")"
   ]
  }
 ],
 "metadata": {
  "kernelspec": {
   "display_name": "Python 3",
   "language": "python",
   "name": "python3"
  },
  "language_info": {
   "codemirror_mode": {
    "name": "ipython",
    "version": 3
   },
   "file_extension": ".py",
   "mimetype": "text/x-python",
   "name": "python",
   "nbconvert_exporter": "python",
   "pygments_lexer": "ipython3",
   "version": "3.12.1"
  }
 },
 "nbformat": 4,
 "nbformat_minor": 2
}
