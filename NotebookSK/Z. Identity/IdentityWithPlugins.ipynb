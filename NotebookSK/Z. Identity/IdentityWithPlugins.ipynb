{
 "cells": [
  {
   "cell_type": "markdown",
   "metadata": {},
   "source": [
    "## Advise re identity architecture"
   ]
  },
  {
   "cell_type": "markdown",
   "metadata": {},
   "source": [
    "Initialize"
   ]
  },
  {
   "cell_type": "code",
   "execution_count": 1,
   "metadata": {
    "dotnet_interactive": {
     "language": "csharp"
    },
    "polyglot_notebook": {
     "kernelName": "csharp"
    },
    "vscode": {
     "languageId": "polyglot-notebook"
    }
   },
   "outputs": [
    {
     "data": {
      "text/html": [
       "<div><div></div><div></div><div><strong>Installed Packages</strong><ul><li><span>Microsoft.SemanticKernel, 1.4.0</span></li><li><span>Microsoft.SemanticKernel.Connectors.OpenAI, 1.4.0</span></li><li><span>Microsoft.SemanticKernel.Planners.Handlebars, 1.4.0-preview</span></li><li><span>System.Linq.Async, 6.0.1</span></li></ul></div></div>"
      ]
     },
     "metadata": {},
     "output_type": "display_data"
    }
   ],
   "source": [
    "#r \"nuget: Microsoft.SemanticKernel, 1.4.0\"\n",
    "#r \"nuget: Microsoft.SemanticKernel.Planners.Handlebars, 1.4.0-preview\"\n",
    "#r \"nuget: Microsoft.SemanticKernel.Connectors.OpenAI, 1.4.0\"\n",
    "\n",
    "#r \"nuget: System.Linq.Async, 6.0.1\"\n",
    "\n",
    "#!import ../config/Settings.cs\n",
    "\n",
    "using Microsoft.SemanticKernel;\n",
    "\n",
    "using Kernel = Microsoft.SemanticKernel.Kernel;\n",
    "\n",
    "var (useAzureOpenAI, model, azureEndpoint, apiKey, bingApiKey, orgId) = Settings.LoadFromFile();\n",
    "var kernel = Microsoft.SemanticKernel.Kernel.CreateBuilder()\n",
    "            .AddAzureOpenAIChatCompletion(\n",
    "                model,   // deployment name\n",
    "                azureEndpoint, // Azure OpenAI Endpoint\n",
    "                apiKey)      // Azure OpenAI Key\n",
    "            .Build();        "
   ]
  },
  {
   "cell_type": "markdown",
   "metadata": {},
   "source": [
    "Define/load plugin to facilitate use of chat history"
   ]
  },
  {
   "cell_type": "code",
   "execution_count": 3,
   "metadata": {
    "dotnet_interactive": {
     "language": "csharp"
    },
    "polyglot_notebook": {
     "kernelName": "csharp"
    },
    "vscode": {
     "languageId": "polyglot-notebook"
    }
   },
   "outputs": [],
   "source": [
    "using System.IO;\n",
    "\n",
    "kernel.Plugins.Clear();\n",
    "\n",
    "#pragma warning disable SKEXP0052\n",
    "var pluginPath = Path.Combine(System.IO.Directory.GetCurrentDirectory(), \"..\", \"plugins\");\n",
    "kernel.CreatePluginFromPromptDirectory(Path.Combine(pluginPath, \"IdentityPlugin\"));\n"
   ]
  },
  {
   "cell_type": "markdown",
   "metadata": {},
   "source": [
    "Run"
   ]
  },
  {
   "cell_type": "code",
   "execution_count": 7,
   "metadata": {
    "dotnet_interactive": {
     "language": "csharp"
    },
    "polyglot_notebook": {
     "kernelName": "csharp"
    },
    "vscode": {
     "languageId": "polyglot-notebook"
    }
   },
   "outputs": [
    {
     "name": "stdout",
     "output_type": "stream",
     "text": [
      "Plan:\n",
      "\n",
      "{{!-- Step 0: Extract necessary key values --}}\n",
      "{{set \"employeeList\" employees}}\n",
      "\n",
      "{{!-- Step 1: Create a table to display employee information --}}\n",
      "<table>\n",
      "  <thead>\n",
      "    <tr>\n",
      "      <th>Name</th>\n",
      "      <th>Position</th>\n",
      "      <th>Email</th>\n",
      "    </tr>\n",
      "  </thead>\n",
      "  <tbody>\n",
      "    {{!-- Step 2: Loop through each employee in the list --}}\n",
      "    {{#each employeeList}}\n",
      "    <tr>\n",
      "      <td>{{name}}</td>\n",
      "      <td>{{position}}</td>\n",
      "      <td>{{email}}</td>\n",
      "    </tr>\n",
      "    {{/each}}\n",
      "  </tbody>\n",
      "</table>\n",
      "Result:\n",
      "\n",
      "<table>\n",
      "  <thead>\n",
      "    <tr>\n",
      "      <th>Name</th>\n",
      "      <th>Position</th>\n",
      "      <th>Email</th>\n",
      "    </tr>\n",
      "  </thead>\n",
      "  <tbody>\n",
      "  </tbody>\n",
      "</table>\n"
     ]
    }
   ],
   "source": [
    "using Microsoft.SemanticKernel.Planning.Handlebars;\n",
    "\n",
    "#pragma warning disable SKEXP0060\n",
    "\n",
    "var planner = new HandlebarsPlanner(new HandlebarsPlannerOptions() { AllowLoops = true });\n",
    "var goal = \"Application is for my own employees.\";\n",
    "var plan = await planner.CreatePlanAsync(kernel, goal);\n",
    "Console.WriteLine(\"Plan:\\n\");\n",
    "Console.WriteLine(plan.ToString());\n",
    "\n",
    "var reloadedPlan = plan; //new HandlebarsPlan(plan.ToString());\n",
    "\n",
    "var resp = await reloadedPlan.InvokeAsync(kernel);\n",
    "Console.WriteLine(\"Result:\\n\");\n",
    "Console.WriteLine(resp);\n",
    "\n",
    "// Should be able to save and re-load a plan: https://devblogs.microsoft.com/semantic-kernel/migrating-from-the-sequential-and-stepwise-planners-to-the-new-handlebars-and-stepwise-planner/"
   ]
  }
 ],
 "metadata": {
  "language_info": {
   "name": "python"
  }
 },
 "nbformat": 4,
 "nbformat_minor": 2
}
