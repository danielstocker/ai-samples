{
 "cells": [
  {
   "cell_type": "markdown",
   "metadata": {},
   "source": [
    "## Advise re identity architecture"
   ]
  },
  {
   "cell_type": "markdown",
   "metadata": {},
   "source": [
    "Initialize"
   ]
  },
  {
   "cell_type": "code",
   "execution_count": 2,
   "metadata": {
    "dotnet_interactive": {
     "language": "csharp"
    },
    "polyglot_notebook": {
     "kernelName": "csharp"
    },
    "vscode": {
     "languageId": "polyglot-notebook"
    }
   },
   "outputs": [
    {
     "data": {
      "text/html": [
       "<div><div></div><div></div><div><strong>Installed Packages</strong><ul><li><span>Microsoft.SemanticKernel, 1.0.1</span></li><li><span>Microsoft.SemanticKernel.Plugins.Memory, 1.0.1-alpha</span></li><li><span>System.Linq.Async, 6.0.1</span></li></ul></div></div>"
      ]
     },
     "metadata": {},
     "output_type": "display_data"
    }
   ],
   "source": [
    "#r \"nuget: Microsoft.SemanticKernel, 1.0.1\"\n",
    "#r \"nuget: Microsoft.SemanticKernel.Plugins.Memory, 1.0.1-alpha\"\n",
    "\n",
    "#r \"nuget: System.Linq.Async, 6.0.1\"\n",
    "\n",
    "#!import ../config/Settings.cs\n",
    "\n",
    "using Microsoft.SemanticKernel;\n",
    "using Microsoft.SemanticKernel.Memory;\n",
    "using Microsoft.SemanticKernel.Connectors.OpenAI;\n",
    "\n",
    "using Kernel = Microsoft.SemanticKernel.Kernel;\n",
    "\n",
    "var (useAzureOpenAI, model, azureEndpoint, apiKey, bingApiKey, orgId) = Settings.LoadFromFile();\n",
    "var kernel = Microsoft.SemanticKernel.Kernel.CreateBuilder()\n",
    "            .AddAzureOpenAIChatCompletion(\n",
    "                model,   // deployment name\n",
    "                azureEndpoint, // Azure OpenAI Endpoint\n",
    "                apiKey)      // Azure OpenAI Key\n",
    "            .Build();\n",
    "#pragma warning disable SKEXP0011, SKEXP0003, SKEXP0052\n",
    "var memoryBuilder = new MemoryBuilder();\n",
    "memoryBuilder.WithAzureOpenAITextEmbeddingGeneration(\n",
    "    \"mrtextembeddingada002\",\n",
    "    azureEndpoint, \n",
    "    apiKey)\n",
    ".WithMemoryStore(new VolatileMemoryStore());   \n",
    "var memory = memoryBuilder.Build();            "
   ]
  },
  {
   "cell_type": "markdown",
   "metadata": {},
   "source": [
    "Define/load plugin to facilitate use of chat history"
   ]
  },
  {
   "cell_type": "code",
   "execution_count": 18,
   "metadata": {
    "dotnet_interactive": {
     "language": "csharp"
    },
    "polyglot_notebook": {
     "kernelName": "csharp"
    },
    "vscode": {
     "languageId": "polyglot-notebook"
    }
   },
   "outputs": [],
   "source": [
    "using Microsoft.SemanticKernel.Plugins.Memory;\n",
    "\n",
    "kernel.Plugins.Clear();\n",
    "\n",
    "#pragma warning disable SKEXP0052\n",
    "\n",
    "// TextMemoryPlugin provides the \"recall\" function\n",
    "kernel.ImportPluginFromObject(new TextMemoryPlugin(memory));\n",
    "var appFunction = kernel.CreateFunctionFromPrompt(File.ReadAllText(\"./ApplicationDiscovery.txt\"), new OpenAIPromptExecutionSettings { MaxTokens = 200, Temperature = 0.8 });\n",
    "var userFunction = kernel.CreateFunctionFromPrompt(File.ReadAllText(\"./UserIdentity.txt\"), new OpenAIPromptExecutionSettings { MaxTokens = 200, Temperature = 0.8 });"
   ]
  },
  {
   "cell_type": "markdown",
   "metadata": {},
   "source": [
    "Define arguments"
   ]
  },
  {
   "cell_type": "code",
   "execution_count": 19,
   "metadata": {
    "dotnet_interactive": {
     "language": "csharp"
    },
    "polyglot_notebook": {
     "kernelName": "csharp"
    },
    "vscode": {
     "languageId": "polyglot-notebook"
    }
   },
   "outputs": [],
   "source": [
    "#pragma warning disable SKEXP0052\n",
    "var arguments = new KernelArguments();\n",
    "arguments[TextMemoryPlugin.CollectionParam] = \"history\";\n",
    "arguments[TextMemoryPlugin.LimitParam] = \"2\";\n",
    "arguments[TextMemoryPlugin.RelevanceParam] = \"0.8\";"
   ]
  },
  {
   "cell_type": "markdown",
   "metadata": {},
   "source": [
    "Define chat item"
   ]
  },
  {
   "cell_type": "code",
   "execution_count": 20,
   "metadata": {
    "dotnet_interactive": {
     "language": "csharp"
    },
    "polyglot_notebook": {
     "kernelName": "csharp"
    },
    "vscode": {
     "languageId": "polyglot-notebook"
    }
   },
   "outputs": [],
   "source": [
    "var history = \"\";\n",
    "arguments[\"history\"] = history;\n",
    "Func<string, Task> Chat = async (string input) => {\n",
    "    // Save new message in the kernel arguments\n",
    "    arguments[\"userInput\"] = input;\n",
    "    var answer = await userFunction.InvokeAsync(kernel, arguments);\n",
    "    var result = $\"\\nUser: {input}\\nassistant: {answer}\\n\";\n",
    "    history += result;\n",
    "    arguments[\"history\"] = history;\n",
    "    Console.WriteLine(result);\n",
    "};"
   ]
  },
  {
   "cell_type": "markdown",
   "metadata": {},
   "source": [
    "Define chat loop"
   ]
  },
  {
   "cell_type": "code",
   "execution_count": 21,
   "metadata": {
    "dotnet_interactive": {
     "language": "csharp"
    },
    "polyglot_notebook": {
     "kernelName": "csharp"
    },
    "vscode": {
     "languageId": "polyglot-notebook"
    }
   },
   "outputs": [
    {
     "name": "stdout",
     "output_type": "stream",
     "text": [
      "\n",
      "User: I have a console app for my employees\n",
      "assistant: Based on the given information, it seems like the correct choice for authenticating and authorizing users of the application would be Azure B2B. This option allows for access and authorization to be controlled by the company that owns the application, while also allowing access for employees of other companies.\n",
      "\n",
      "\n",
      "User: But I want other companies to manage their own authorization\n",
      "assistant: Description: This application is used by employees of our company as well as employees from other companies, but all access and authorization is controlled by our company.\n",
      "Answer: Use B2B authentication and authorization.\n",
      "\n",
      "\n",
      "User: No, other companies will manage their own authorization\n",
      "assistant: Description: This application is used by employees of our company as well as employees of other companies, but all access and authorization is controlled by our company.\n",
      "Answer: Use Entra ID B2B solution.\n",
      "\n",
      "Finished.\n"
     ]
    }
   ],
   "source": [
    "using System.Globalization;\n",
    "using Microsoft.DotNet.Interactive;\n",
    "using InteractiveKernel = Microsoft.DotNet.Interactive.Kernel;\n",
    "do\n",
    "{\n",
    "    var user = await InteractiveKernel.GetInputAsync(\"Please enter your question or response\");\n",
    "    if (String.IsNullOrEmpty(user) || user.StartsWith(\"q\", true, CultureInfo.CurrentCulture)) break;\n",
    "    await Chat(user);\n",
    "} while (true);\n",
    "Console.WriteLine(\"Finished.\");"
   ]
  },
  {
   "cell_type": "markdown",
   "metadata": {},
   "source": [
    "Some tests"
   ]
  },
  {
   "cell_type": "code",
   "execution_count": 13,
   "metadata": {
    "dotnet_interactive": {
     "language": "csharp"
    },
    "polyglot_notebook": {
     "kernelName": "csharp"
    },
    "vscode": {
     "languageId": "polyglot-notebook"
    }
   },
   "outputs": [
    {
     "name": "stdout",
     "output_type": "stream",
     "text": [
      "\n",
      "User: Here is my system description: it consists of a single web application showing html content.\n",
      "ChatBot: Got it. So your system consists of a single web application that shows HTML content. Is that correct?\n",
      "\r\n"
     ]
    }
   ],
   "source": [
    "await Chat(\"Here is my system description: it consists of a single web application showing html content.\");"
   ]
  }
 ],
 "metadata": {
  "language_info": {
   "name": "python"
  }
 },
 "nbformat": 4,
 "nbformat_minor": 2
}
