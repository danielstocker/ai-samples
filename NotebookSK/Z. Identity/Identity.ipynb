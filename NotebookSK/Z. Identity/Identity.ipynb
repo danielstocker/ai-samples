{
 "cells": [
  {
   "cell_type": "markdown",
   "metadata": {},
   "source": [
    "## Advise re identity architecture"
   ]
  },
  {
   "cell_type": "markdown",
   "metadata": {},
   "source": [
    "Initialize"
   ]
  },
  {
   "cell_type": "code",
   "execution_count": 1,
   "metadata": {
    "dotnet_interactive": {
     "language": "csharp"
    },
    "polyglot_notebook": {
     "kernelName": "csharp"
    },
    "vscode": {
     "languageId": "polyglot-notebook"
    }
   },
   "outputs": [
    {
     "data": {
      "text/html": [
       "<div><div></div><div></div><div><strong>Installed Packages</strong><ul><li><span>Microsoft.SemanticKernel, 1.0.1</span></li><li><span>Microsoft.SemanticKernel.Plugins.Memory, 1.0.1-alpha</span></li><li><span>System.Linq.Async, 6.0.1</span></li></ul></div></div>"
      ]
     },
     "metadata": {},
     "output_type": "display_data"
    }
   ],
   "source": [
    "#r \"nuget: Microsoft.SemanticKernel, 1.0.1\"\n",
    "#r \"nuget: Microsoft.SemanticKernel.Plugins.Memory, 1.0.1-alpha\"\n",
    "\n",
    "#r \"nuget: System.Linq.Async, 6.0.1\"\n",
    "\n",
    "#!import ../config/Settings.cs\n",
    "\n",
    "using Microsoft.SemanticKernel;\n",
    "using Microsoft.SemanticKernel.Memory;\n",
    "using Microsoft.SemanticKernel.Connectors.OpenAI;\n",
    "\n",
    "using Kernel = Microsoft.SemanticKernel.Kernel;\n",
    "\n",
    "var (useAzureOpenAI, model, azureEndpoint, apiKey, bingApiKey, orgId) = Settings.LoadFromFile();\n",
    "var kernel = Microsoft.SemanticKernel.Kernel.CreateBuilder()\n",
    "            .AddAzureOpenAIChatCompletion(\n",
    "                model,   // deployment name\n",
    "                azureEndpoint, // Azure OpenAI Endpoint\n",
    "                apiKey)      // Azure OpenAI Key\n",
    "            .Build();\n",
    "#pragma warning disable SKEXP0011, SKEXP0003, SKEXP0052\n",
    "var memoryBuilder = new MemoryBuilder();\n",
    "memoryBuilder.WithAzureOpenAITextEmbeddingGeneration(\n",
    "    \"mrtextembeddingada002\",\n",
    "    azureEndpoint, \n",
    "    apiKey)\n",
    ".WithMemoryStore(new VolatileMemoryStore());   \n",
    "var memory = memoryBuilder.Build();            "
   ]
  },
  {
   "cell_type": "markdown",
   "metadata": {},
   "source": [
    "Define/load plugin to facilitate use of chat history"
   ]
  },
  {
   "cell_type": "code",
   "execution_count": 2,
   "metadata": {
    "dotnet_interactive": {
     "language": "csharp"
    },
    "polyglot_notebook": {
     "kernelName": "csharp"
    },
    "vscode": {
     "languageId": "polyglot-notebook"
    }
   },
   "outputs": [],
   "source": [
    "using Microsoft.SemanticKernel.Plugins.Memory;\n",
    "\n",
    "kernel.Plugins.Clear();\n",
    "\n",
    "#pragma warning disable SKEXP0052\n",
    "\n",
    "// TextMemoryPlugin provides the \"recall\" function\n",
    "kernel.ImportPluginFromObject(new TextMemoryPlugin(memory));\n",
    "var appFunction = kernel.CreateFunctionFromPrompt(File.ReadAllText(\"./ApplicationDiscovery.txt\"), new OpenAIPromptExecutionSettings { MaxTokens = 200, Temperature = 0.8 });\n",
    "var userFunction = kernel.CreateFunctionFromPrompt(File.ReadAllText(\"./UserIdentity.txt\"), new OpenAIPromptExecutionSettings { MaxTokens = 200, Temperature = 0.0 });"
   ]
  },
  {
   "cell_type": "markdown",
   "metadata": {},
   "source": [
    "Define arguments"
   ]
  },
  {
   "cell_type": "code",
   "execution_count": 3,
   "metadata": {
    "dotnet_interactive": {
     "language": "csharp"
    },
    "polyglot_notebook": {
     "kernelName": "csharp"
    },
    "vscode": {
     "languageId": "polyglot-notebook"
    }
   },
   "outputs": [],
   "source": [
    "#pragma warning disable SKEXP0052\n",
    "var arguments = new KernelArguments();\n",
    "arguments[TextMemoryPlugin.CollectionParam] = \"history\";\n",
    "arguments[TextMemoryPlugin.LimitParam] = \"2\";\n",
    "arguments[TextMemoryPlugin.RelevanceParam] = \"0.8\";"
   ]
  },
  {
   "cell_type": "markdown",
   "metadata": {},
   "source": [
    "Define chat item"
   ]
  },
  {
   "cell_type": "code",
   "execution_count": 4,
   "metadata": {
    "dotnet_interactive": {
     "language": "csharp"
    },
    "polyglot_notebook": {
     "kernelName": "csharp"
    },
    "vscode": {
     "languageId": "polyglot-notebook"
    }
   },
   "outputs": [],
   "source": [
    "var history = \"\";\n",
    "arguments[\"history\"] = history;\n",
    "Func<string, Task> Chat = async (string input) => {\n",
    "    arguments[\"userInput\"] = input;\n",
    "    var answer = await userFunction.InvokeAsync(kernel, arguments);\n",
    "    var result = $\"\\nUser: {input}\\nassistant: {answer}\\n\";\n",
    "    history += result;\n",
    "    arguments[\"history\"] = history;\n",
    "    Console.WriteLine(result);\n",
    "};"
   ]
  },
  {
   "cell_type": "markdown",
   "metadata": {},
   "source": [
    "Define chat loop"
   ]
  },
  {
   "cell_type": "code",
   "execution_count": 5,
   "metadata": {
    "dotnet_interactive": {
     "language": "csharp"
    },
    "polyglot_notebook": {
     "kernelName": "csharp"
    },
    "vscode": {
     "languageId": "polyglot-notebook"
    }
   },
   "outputs": [
    {
     "name": "stdout",
     "output_type": "stream",
     "text": [
      "\n",
      "User: This is a console app for our employees\n",
      "assistant: Based on the information provided, I would recommend using Azure AD Enterprise, optionally with B2B, for authentication and authorization of users for your console application. This option allows you to have control over who can access the application and manage the authorization process. Additionally, if you need to collaborate with external users, Azure AD B2B can be used to invite them to access the application.\n",
      "\n",
      "\n",
      "User: This is a web SaaS application\n",
      "assistant: Based on the information provided, I would recommend using Azure AD Multi-tenant for authentication and authorization of users for your web SaaS application. This option allows each company to control its own authorization and all companies can use their Azure AD directories to manage access to the application.\n",
      "\n",
      "\n",
      "User: This is a web application\n",
      "assistant: Based on the information provided, I would recommend using Azure AD B2C for authentication and authorization of users for your web application. Azure AD B2C is designed for applications that are accessed by consumer users. It allows you to provide a seamless and secure sign-up and sign-in experience for your users, with support for social identity providers such as Facebook and Google. Additionally, Azure AD B2C allows you to customize the user interface and user flows to match the branding and requirements of your application.\n",
      "\n",
      "Finished.\n"
     ]
    }
   ],
   "source": [
    "using System.Globalization;\n",
    "using Microsoft.DotNet.Interactive;\n",
    "using InteractiveKernel = Microsoft.DotNet.Interactive.Kernel;\n",
    "do\n",
    "{\n",
    "    var user = await InteractiveKernel.GetInputAsync(\"Please enter your question or response\");\n",
    "    if (String.IsNullOrEmpty(user) || user.StartsWith(\"q\", true, CultureInfo.CurrentCulture)) break;\n",
    "    await Chat(user);\n",
    "} while (true);\n",
    "Console.WriteLine(\"Finished.\");"
   ]
  },
  {
   "cell_type": "markdown",
   "metadata": {},
   "source": [
    "Some tests"
   ]
  },
  {
   "cell_type": "code",
   "execution_count": 13,
   "metadata": {
    "dotnet_interactive": {
     "language": "csharp"
    },
    "polyglot_notebook": {
     "kernelName": "csharp"
    },
    "vscode": {
     "languageId": "polyglot-notebook"
    }
   },
   "outputs": [
    {
     "name": "stdout",
     "output_type": "stream",
     "text": [
      "\n",
      "User: Here is my system description: it consists of a single web application showing html content.\n",
      "ChatBot: Got it. So your system consists of a single web application that shows HTML content. Is that correct?\n",
      "\r\n"
     ]
    }
   ],
   "source": [
    "await Chat(\"Here is my system description: it consists of a single web application showing html content.\");"
   ]
  }
 ],
 "metadata": {
  "language_info": {
   "name": "python"
  }
 },
 "nbformat": 4,
 "nbformat_minor": 2
}
