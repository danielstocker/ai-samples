{
 "cells": [
  {
   "cell_type": "markdown",
   "metadata": {},
   "source": [
    "## Calling a Graph function"
   ]
  },
  {
   "cell_type": "code",
   "execution_count": 1,
   "metadata": {
    "dotnet_interactive": {
     "language": "csharp"
    },
    "polyglot_notebook": {
     "kernelName": "csharp"
    },
    "vscode": {
     "languageId": "polyglot-notebook"
    }
   },
   "outputs": [
    {
     "name": "stdout",
     "output_type": "stream",
     "text": [
      "Current file path: c:\\Users\\mrochon\\source\\repos\\ai-samples\\NotebookSK\\7. GraphCall\n",
      ".NET Version: 8.0.1\n"
     ]
    }
   ],
   "source": [
    "using System;\n",
    "using System.IO;\n",
    "\n",
    "string filePath = Directory.GetCurrentDirectory();\n",
    "Console.WriteLine(\"Current file path: \" + filePath);\n",
    "\n",
    "Console.WriteLine(\".NET Version: \" + Environment.Version);"
   ]
  },
  {
   "cell_type": "code",
   "execution_count": 7,
   "metadata": {
    "dotnet_interactive": {
     "language": "csharp"
    },
    "polyglot_notebook": {
     "kernelName": "csharp"
    },
    "vscode": {
     "languageId": "polyglot-notebook"
    }
   },
   "outputs": [
    {
     "data": {
      "text/html": [
       "<div><div></div><div></div><div><strong>Installed Packages</strong><ul><li><span>Azure.identity, 1.10.4</span></li><li><span>microsoft.graph, 4.51.0</span></li><li><span>Microsoft.SemanticKernel, 1.0.1</span></li><li><span>microsoft.semantickernel.connectors.openai, 1.0.1</span></li><li><span>Microsoft.SemanticKernel.Planners.Handlebars, 1.0.1-preview</span></li><li><span>Microsoft.SemanticKernel.Plugins.Core, 1.0.1-alpha</span></li><li><span>Microsoft.SemanticKernel.Plugins.MsGraph, 1.0.1-alpha</span></li></ul></div></div>"
      ]
     },
     "metadata": {},
     "output_type": "display_data"
    }
   ],
   "source": [
    "#r \"nuget: Microsoft.SemanticKernel, 1.0.1\"\n",
    "#r \"nuget: Microsoft.SemanticKernel.Connectors.OpenAI, 1.0.1\"\n",
    "#r \"nuget: Microsoft.SemanticKernel.Planners.Handlebars, 1.0.1-preview\"\n",
    "#r \"nuget: Microsoft.SemanticKernel.Plugins.Core, 1.0.1-alpha\"\n",
    "#r \"nuget: Microsoft.SemanticKernel.Plugins.MsGraph, 1.0.1-alpha\"\n",
    "#r \"nuget: Microsoft.Graph\"\n",
    "#r \"nuget: Azure.identity\"\n"
   ]
  },
  {
   "cell_type": "code",
   "execution_count": 21,
   "metadata": {
    "dotnet_interactive": {
     "language": "csharp"
    },
    "polyglot_notebook": {
     "kernelName": "csharp"
    },
    "vscode": {
     "languageId": "polyglot-notebook"
    }
   },
   "outputs": [],
   "source": [
    "using Microsoft.Graph;\n",
    "using Azure.Identity;\n",
    "var scopes = new[] { \"User.Read\", \"Mail.Send\" };\n",
    "var tenantId = \"consumers\";\n",
    "// Value from app registration\n",
    "var clientId = \"42f18b97-5fd1-4f8c-8c6c-2c5c3dba0623\";\n",
    "// using Azure.Identity;\n",
    "var options = new DeviceCodeCredentialOptions\n",
    "{\n",
    "    AuthorityHost = AzureAuthorityHosts.AzurePublicCloud,\n",
    "    ClientId = clientId,\n",
    "    TenantId = tenantId,\n",
    "    DeviceCodeCallback = (code, cancellation) =>\n",
    "    {\n",
    "        Console.WriteLine(code.Message);\n",
    "        return Task.FromResult(0);\n",
    "    },\n",
    "};\n",
    "// https://learn.microsoft.com/dotnet/api/azure.identity.devicecodecredential\n",
    "var deviceCodeCredential = new DeviceCodeCredential(options);\n",
    "var graphClient = new GraphServiceClient(deviceCodeCredential, scopes);"
   ]
  },
  {
   "cell_type": "code",
   "execution_count": 22,
   "metadata": {
    "dotnet_interactive": {
     "language": "csharp"
    },
    "polyglot_notebook": {
     "kernelName": "csharp"
    },
    "vscode": {
     "languageId": "polyglot-notebook"
    }
   },
   "outputs": [],
   "source": [
    "#!import ../config/Settings.cs\n",
    "\n",
    "using Microsoft.SemanticKernel;\n",
    "using Microsoft.SemanticKernel.Planning.Handlebars;\n",
    "using Microsoft.SemanticKernel.Plugins.Core;\n",
    "using Microsoft.SemanticKernel.Plugins.MsGraph;\n",
    "using Microsoft.Graph;\n",
    "using Microsoft.SemanticKernel.Plugins.MsGraph.Connectors;\n",
    "var (useAzureOpenAI, model, azureEndpoint, apiKey, bingApiKey, orgId) = Settings.LoadFromFile();\n",
    "var kernel = Microsoft.SemanticKernel.Kernel.CreateBuilder()\n",
    "            .AddAzureOpenAIChatCompletion(\n",
    "                model,   // deployment name\n",
    "                azureEndpoint, // Azure OpenAI Endpoint\n",
    "                apiKey)      // Azure OpenAI Key\n",
    "            .Build();\n",
    "kernel.Plugins.Clear();\n",
    "#pragma warning disable SKEXP0053\n",
    "var emailConnector = new OutlookMailConnector(graphClient);\n",
    "var emailPlugin = new EmailPlugin(emailConnector);\n",
    "kernel.ImportPluginFromObject(emailPlugin, \"email\");"
   ]
  },
  {
   "cell_type": "markdown",
   "metadata": {},
   "source": [
    "List plugins and functions"
   ]
  },
  {
   "cell_type": "code",
   "execution_count": null,
   "metadata": {
    "dotnet_interactive": {
     "language": "csharp"
    },
    "polyglot_notebook": {
     "kernelName": "csharp"
    },
    "vscode": {
     "languageId": "polyglot-notebook"
    }
   },
   "outputs": [],
   "source": [
    "    foreach (KernelFunctionMetadata func in kernel.Plugins.GetFunctionsMetadata())\n",
    "    {\n",
    "        Console.WriteLine($\"Plugin: {func.PluginName}\");\n",
    "        Console.WriteLine($\"   {func.Name}: {func.Description}\");\n",
    "\n",
    "        if (func.Parameters.Count > 0)\n",
    "        {\n",
    "            Console.WriteLine(\"      Params:\");\n",
    "            foreach (var p in func.Parameters)\n",
    "            {\n",
    "                Console.WriteLine($\"      - {p.Name}: {p.Description}\");\n",
    "                Console.WriteLine($\"        default: '{p.DefaultValue}'\");\n",
    "            }\n",
    "        }\n",
    "        Console.WriteLine();\n",
    "    }"
   ]
  },
  {
   "cell_type": "markdown",
   "metadata": {},
   "source": [
    "Now try different prompts"
   ]
  },
  {
   "cell_type": "code",
   "execution_count": 24,
   "metadata": {
    "dotnet_interactive": {
     "language": "csharp"
    },
    "polyglot_notebook": {
     "kernelName": "csharp"
    },
    "vscode": {
     "languageId": "polyglot-notebook"
    }
   },
   "outputs": [
    {
     "name": "stdout",
     "output_type": "stream",
     "text": [
      "Plan:\n",
      "\n",
      "{{!-- Step 1: Set the email content --}}\n",
      "{{set \"content\" \"Hello, I hope you're having a great day!\"}}\n",
      "\n",
      "{{!-- Step 2: Set the email recipients --}}\n",
      "{{set \"recipients\" \"suiramor@gmail.com\"}}\n",
      "\n",
      "{{!-- Step 3: Set the email subject --}}\n",
      "{{set \"subject\" \"Hello from Handlebars\"}}\n",
      "\n",
      "{{!-- Step 4: Send the email --}}\n",
      "{{email-SendEmail content=content recipients=recipients subject=subject}}\n"
     ]
    }
   ],
   "source": [
    "#pragma warning disable SKEXP0060\n",
    "    var planner = new HandlebarsPlanner();\n",
    "    var goal = \"Send an email to suiramor@gmail.com to say hello\";\n",
    "    var plan = await planner.CreatePlanAsync(kernel, goal);\n",
    "    Console.WriteLine(\"Plan:\\n\");\n",
    "    Console.WriteLine(plan.ToString());"
   ]
  },
  {
   "cell_type": "code",
   "execution_count": 26,
   "metadata": {
    "dotnet_interactive": {
     "language": "csharp"
    },
    "polyglot_notebook": {
     "kernelName": "csharp"
    },
    "vscode": {
     "languageId": "polyglot-notebook"
    }
   },
   "outputs": [
    {
     "ename": "Error",
     "evalue": "(2,33): error CS1503: Argument 1: cannot convert from 'string' to 'Microsoft.SemanticKernel.Planning.Handlebars.HandlebarsPlannerOptions?'",
     "output_type": "error",
     "traceback": [
      "(2,33): error CS1503: Argument 1: cannot convert from 'string' to 'Microsoft.SemanticKernel.Planning.Handlebars.HandlebarsPlannerOptions?'"
     ]
    }
   ],
   "source": [
    "#pragma warning disable SKEXP0060\n",
    "planner = new HandlebarsPlanner(System.IO.File.ReadAllText(\"plan.txt\"));"
   ]
  },
  {
   "cell_type": "markdown",
   "metadata": {},
   "source": [
    "Execute the plan"
   ]
  },
  {
   "cell_type": "code",
   "execution_count": 10,
   "metadata": {
    "dotnet_interactive": {
     "language": "csharp"
    },
    "polyglot_notebook": {
     "kernelName": "csharp"
    },
    "vscode": {
     "languageId": "polyglot-notebook"
    }
   },
   "outputs": [
    {
     "ename": "Error",
     "evalue": "(3,10): error CS1002: ; expected\r\n(3,22): error CS1002: ; expected\r\n(3,22): error CS1010: Newline in constant\r\n(3,72): error CS1002: ; expected\r\n(5,14): error CS1002: ; expected\r\n(5,15): error CS1002: ; expected\r\n(5,15): error CS1513: } expected\r\n(5,27): error CS1002: ; expected\r\n(5,41): error CS1002: ; expected\r\n(5,48): error CS1002: ; expected\r\n(5,57): error CS1002: ; expected\r\n(6,18): error CS1003: Syntax error, ',' expected\r\n(6,48): error CS1003: Syntax error, ',' expected\r\n(6,61): error CS1002: ; expected\r\n(7,1): error CS1010: Newline in constant\r\n(7,3): error CS1002: ; expected\r\n(9,52): error CS1026: ) expected\r\n(9,53): error CS7017: Member definition, statement, or end-of-file expected",
     "output_type": "error",
     "traceback": [
      "(3,10): error CS1002: ; expected\r\n",
      "(3,22): error CS1002: ; expected\r\n",
      "(3,22): error CS1010: Newline in constant\r\n",
      "(3,72): error CS1002: ; expected\r\n",
      "(5,14): error CS1002: ; expected\r\n",
      "(5,15): error CS1002: ; expected\r\n",
      "(5,15): error CS1513: } expected\r\n",
      "(5,27): error CS1002: ; expected\r\n",
      "(5,41): error CS1002: ; expected\r\n",
      "(5,48): error CS1002: ; expected\r\n",
      "(5,57): error CS1002: ; expected\r\n",
      "(6,18): error CS1003: Syntax error, ',' expected\r\n",
      "(6,48): error CS1003: Syntax error, ',' expected\r\n",
      "(6,61): error CS1002: ; expected\r\n",
      "(7,1): error CS1010: Newline in constant\r\n",
      "(7,3): error CS1002: ; expected\r\n",
      "(9,52): error CS1026: ) expected\r\n",
      "(9,53): error CS7017: Member definition, statement, or end-of-file expected"
     ]
    }
   ],
   "source": [
    "    var resp = await plan.InvokeAsync(kernel);\n",
    "    Console.WriteLine(\"Result:\\n\");\n",
    "    Console.WriteLine(resp);"
   ]
  }
 ],
 "metadata": {
  "language_info": {
   "name": "python"
  }
 },
 "nbformat": 4,
 "nbformat_minor": 2
}
