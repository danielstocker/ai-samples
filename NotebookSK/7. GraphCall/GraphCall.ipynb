{
 "cells": [
  {
   "cell_type": "markdown",
   "metadata": {},
   "source": [
    "## Calling a Graph function"
   ]
  },
  {
   "cell_type": "code",
   "execution_count": 14,
   "metadata": {
    "dotnet_interactive": {
     "language": "csharp"
    },
    "polyglot_notebook": {
     "kernelName": "csharp"
    },
    "vscode": {
     "languageId": "polyglot-notebook"
    }
   },
   "outputs": [
    {
     "name": "stdout",
     "output_type": "stream",
     "text": [
      "Current file path: c:\\Users\\mrochon\\source\\repos\\ai-samples\\NotebookSK\\7. GraphCall\n",
      ".NET Version: 8.0.1\n"
     ]
    }
   ],
   "source": [
    "using System;\n",
    "using System.IO;\n",
    "\n",
    "string filePath = Directory.GetCurrentDirectory();\n",
    "Console.WriteLine(\"Current file path: \" + filePath);\n",
    "\n",
    "Console.WriteLine(\".NET Version: \" + Environment.Version);"
   ]
  },
  {
   "cell_type": "code",
   "execution_count": 15,
   "metadata": {
    "dotnet_interactive": {
     "language": "csharp"
    },
    "polyglot_notebook": {
     "kernelName": "csharp"
    },
    "vscode": {
     "languageId": "polyglot-notebook"
    }
   },
   "outputs": [
    {
     "data": {
      "text/html": [
       "<div><div></div><div></div><div><strong>Installed Packages</strong><ul><li><span>Azure.identity, 1.10.4</span></li><li><span>Microsoft.Graph, 5.41.0</span></li><li><span>Microsoft.SemanticKernel, 1.0.1</span></li><li><span>Microsoft.SemanticKernel.Connectors.OpenAI, 1.0.1</span></li><li><span>Microsoft.SemanticKernel.Planners.Handlebars, 1.0.1-preview</span></li><li><span>Microsoft.SemanticKernel.Plugins.Core, 1.0.1-alpha</span></li><li><span>Microsoft.SemanticKernel.Plugins.MsGraph, 1.0.1-alpha</span></li></ul></div></div>"
      ]
     },
     "metadata": {},
     "output_type": "display_data"
    }
   ],
   "source": [
    "#r \"nuget: Microsoft.SemanticKernel, 1.0.1\"\n",
    "#r \"nuget: Microsoft.SemanticKernel.Connectors.OpenAI, 1.0.1\"\n",
    "#r \"nuget: Microsoft.SemanticKernel.Planners.Handlebars, 1.0.1-preview\"\n",
    "#r \"nuget: Microsoft.SemanticKernel.Plugins.Core, 1.0.1-alpha\"\n",
    "#r \"nuget: Microsoft.SemanticKernel.Plugins.MsGraph, 1.0.1-alpha\"\n",
    "#r \"nuget: Microsoft.Graph\"\n",
    "#r \"nuget: Azure.identity\"\n"
   ]
  },
  {
   "cell_type": "code",
   "execution_count": 16,
   "metadata": {
    "dotnet_interactive": {
     "language": "csharp"
    },
    "polyglot_notebook": {
     "kernelName": "csharp"
    },
    "vscode": {
     "languageId": "polyglot-notebook"
    }
   },
   "outputs": [
    {
     "name": "stdout",
     "output_type": "stream",
     "text": [
      "To sign in, use a web browser to open the page https://www.microsoft.com/link and enter the code PQHNFJHT to authenticate.\r\n"
     ]
    }
   ],
   "source": [
    "using Microsoft.Graph;\n",
    "using Azure.Identity;\n",
    "var scopes = new[] { \"User.Read\", \"Mail.Send\" };\n",
    "var tenantId = \"consumers\";\n",
    "// Value from app registration\n",
    "var clientId = \"42f18b97-5fd1-4f8c-8c6c-2c5c3dba0623\";\n",
    "// using Azure.Identity;\n",
    "var options = new DeviceCodeCredentialOptions\n",
    "{\n",
    "    AuthorityHost = AzureAuthorityHosts.AzurePublicCloud,\n",
    "    ClientId = clientId,\n",
    "    TenantId = tenantId,\n",
    "    DeviceCodeCallback = (code, cancellation) =>\n",
    "    {\n",
    "        Console.WriteLine(code.Message);\n",
    "        return Task.FromResult(0);\n",
    "    },\n",
    "};\n",
    "// https://learn.microsoft.com/dotnet/api/azure.identity.devicecodecredential\n",
    "var deviceCodeCredential = new DeviceCodeCredential(options);\n",
    "var graphClient = new GraphServiceClient(deviceCodeCredential, scopes);\n",
    "var user = await graphClient.Me.GetAsync();"
   ]
  },
  {
   "cell_type": "code",
   "execution_count": 17,
   "metadata": {
    "dotnet_interactive": {
     "language": "csharp"
    },
    "polyglot_notebook": {
     "kernelName": "csharp"
    },
    "vscode": {
     "languageId": "polyglot-notebook"
    }
   },
   "outputs": [],
   "source": [
    "#!import ../config/Settings.cs\n",
    "\n",
    "using Microsoft.SemanticKernel;\n",
    "using Microsoft.SemanticKernel.Planning.Handlebars;\n",
    "using Microsoft.SemanticKernel.Plugins.Core;\n",
    "using Microsoft.SemanticKernel.Plugins.MsGraph;\n",
    "using Microsoft.Graph;\n",
    "using Microsoft.SemanticKernel.Plugins.MsGraph.Connectors;\n",
    "var (useAzureOpenAI, model, azureEndpoint, apiKey, bingApiKey, orgId) = Settings.LoadFromFile();\n",
    "var kernel = Microsoft.SemanticKernel.Kernel.CreateBuilder()\n",
    "            .AddAzureOpenAIChatCompletion(\n",
    "                model,   // deployment name\n",
    "                azureEndpoint, // Azure OpenAI Endpoint\n",
    "                apiKey)      // Azure OpenAI Key\n",
    "            .Build();\n",
    "kernel.Plugins.Clear();\n",
    "#pragma warning disable SKEXP0053\n",
    "var emailConnector = new OutlookMailConnector(graphClient);\n",
    "var emailPlugin = new EmailPlugin(emailConnector);\n",
    "kernel.ImportPluginFromObject(emailPlugin, \"email\");"
   ]
  },
  {
   "cell_type": "markdown",
   "metadata": {},
   "source": [
    "List plugins and functions"
   ]
  },
  {
   "cell_type": "code",
   "execution_count": null,
   "metadata": {
    "dotnet_interactive": {
     "language": "csharp"
    },
    "polyglot_notebook": {
     "kernelName": "csharp"
    },
    "vscode": {
     "languageId": "polyglot-notebook"
    }
   },
   "outputs": [],
   "source": [
    "foreach (KernelFunctionMetadata func in kernel.Plugins.GetFunctionsMetadata())\n",
    "{\n",
    "    Console.WriteLine($\"Plugin: {func.PluginName}\");\n",
    "    Console.WriteLine($\"   {func.Name}: {func.Description}\");\n",
    "\n",
    "    if (func.Parameters.Count > 0)\n",
    "    {\n",
    "        Console.WriteLine(\"      Params:\");\n",
    "        foreach (var p in func.Parameters)\n",
    "        {\n",
    "            Console.WriteLine($\"      - {p.Name}: {p.Description}\");\n",
    "            Console.WriteLine($\"        default: '{p.DefaultValue}'\");\n",
    "        }\n",
    "    }\n",
    "    Console.WriteLine();\n",
    "}"
   ]
  },
  {
   "cell_type": "markdown",
   "metadata": {},
   "source": [
    "Now try different prompts"
   ]
  },
  {
   "cell_type": "code",
   "execution_count": 20,
   "metadata": {
    "dotnet_interactive": {
     "language": "csharp"
    },
    "polyglot_notebook": {
     "kernelName": "csharp"
    },
    "vscode": {
     "languageId": "polyglot-notebook"
    }
   },
   "outputs": [
    {
     "name": "stdout",
     "output_type": "stream",
     "text": [
      "Plan:\n",
      "\n",
      "{{!-- Step 1: Set the email recipient --}}\n",
      "{{set \"recipient\" \"<recipient>\"}}\n",
      "\n",
      "{{!-- Step 2: Set the email subject --}}\n",
      "{{set \"subject\" \"<subject>\"}}\n",
      "\n",
      "{{!-- Step 3: Get my email address --}}\n",
      "{{set \"myEmailAddress\" (email-GetMyEmailAddress)}}\n",
      "\n",
      "{{!-- Step 4: Set the email content --}}\n",
      "{{set \"content\" (concat \"Hello, \" recipient \". This is a message from \" myEmailAddress \".\")}}\n",
      "\n",
      "{{!-- Step 5: Send the email --}}\n",
      "{{email-SendEmail content=content recipients=recipient subject=subject}}\n"
     ]
    }
   ],
   "source": [
    "#pragma warning disable SKEXP0060\n",
    "    var planner = new HandlebarsPlanner();\n",
    "    var goal = \"Send an email to <recipient> to say <subject>\";\n",
    "    var plan = await planner.CreatePlanAsync(kernel, goal);\n",
    "    Console.WriteLine(\"Plan:\\n\");\n",
    "    Console.WriteLine(plan.ToString());"
   ]
  },
  {
   "cell_type": "code",
   "execution_count": 26,
   "metadata": {
    "dotnet_interactive": {
     "language": "csharp"
    },
    "polyglot_notebook": {
     "kernelName": "csharp"
    },
    "vscode": {
     "languageId": "polyglot-notebook"
    }
   },
   "outputs": [
    {
     "ename": "Error",
     "evalue": "(2,33): error CS1503: Argument 1: cannot convert from 'string' to 'Microsoft.SemanticKernel.Planning.Handlebars.HandlebarsPlannerOptions?'",
     "output_type": "error",
     "traceback": [
      "(2,33): error CS1503: Argument 1: cannot convert from 'string' to 'Microsoft.SemanticKernel.Planning.Handlebars.HandlebarsPlannerOptions?'"
     ]
    }
   ],
   "source": [
    "#pragma warning disable SKEXP0060\n",
    "// planner = new HandlebarsPlanner(\"plan.txt\");"
   ]
  },
  {
   "cell_type": "markdown",
   "metadata": {},
   "source": [
    "Execute the plan"
   ]
  },
  {
   "cell_type": "code",
   "execution_count": 19,
   "metadata": {
    "dotnet_interactive": {
     "language": "csharp"
    },
    "polyglot_notebook": {
     "kernelName": "csharp"
    },
    "vscode": {
     "languageId": "polyglot-notebook"
    }
   },
   "outputs": [
    {
     "ename": "Error",
     "evalue": "System.TypeLoadException: Could not load type 'Microsoft.Graph.User' from assembly 'Microsoft.Graph, Version=5.41.0.0, Culture=neutral, PublicKeyToken=31bf3856ad364e35'.\r\n   at Microsoft.SemanticKernel.Plugins.MsGraph.Connectors.OutlookMailConnector.GetMyEmailAddressAsync(CancellationToken cancellationToken)\r\n   at Microsoft.SemanticKernel.Plugins.MsGraph.EmailPlugin.GetMyEmailAddressAsync()\r\n   at Microsoft.SemanticKernel.KernelFunctionFromMethod.<>c.<<GetReturnValueMarshalerDelegate>b__12_4>d.MoveNext()\r\n--- End of stack trace from previous location ---\r\n   at Microsoft.SemanticKernel.KernelFunction.InvokeAsync(Kernel kernel, KernelArguments arguments, CancellationToken cancellationToken)\r\n   at Microsoft.SemanticKernel.PromptTemplates.Handlebars.Helpers.KernelFunctionHelpers.InvokeKernelFunction(Kernel kernel, KernelFunction function, KernelArguments executionContext, CancellationToken cancellationToken)\r\n   at Microsoft.SemanticKernel.PromptTemplates.Handlebars.Helpers.KernelFunctionHelpers.<>c__DisplayClass1_0.<RegisterFunctionAsHelper>b__0(Context context, Arguments handlebarsArguments)\r\n   at HandlebarsDotNet.Helpers.DelegateReturnHelperDescriptor.Invoke(HelperOptions& options, Context& context, Arguments& arguments)\r\n   at HandlebarsDotNet.Helpers.DelegateReturnHelperDescriptor.HandlebarsDotNet.Helpers.IHelperDescriptor<HandlebarsDotNet.HelperOptions>.Invoke(HelperOptions& options, Context& context, Arguments& arguments)\r\n   at lambda_method369(Closure, EncodedTextWriter&, BindingContext)\r\n   at HandlebarsDotNet.HandlebarsEnvironment.<>c__DisplayClass19_0.<Compile>b__0(TextWriter writer, Object context, Object data)\r\n   at HandlebarsDotNet.HandlebarsEnvironment.<>c__DisplayClass20_0.<Compile>b__0(Object context, Object data)\r\n   at Microsoft.SemanticKernel.PromptTemplates.Handlebars.HandlebarsPromptTemplate.RenderAsync(Kernel kernel, KernelArguments arguments, CancellationToken cancellationToken)\r\n   at Microsoft.SemanticKernel.Planning.Handlebars.HandlebarsPlan.InvokeCoreAsync(Kernel kernel, KernelArguments arguments, CancellationToken cancellationToken)\r\n   at Microsoft.SemanticKernel.Planning.PlannerInstrumentation.InvokePlanAsync[TPlan,TPlanInput,TPlanResult](Func`5 InvokePlanAsync, TPlan plan, Kernel kernel, TPlanInput input, ILogger logger, CancellationToken cancellationToken)\r\n   at Submission#22.<<Initialize>>d__0.MoveNext()\r\n--- End of stack trace from previous location ---\r\n   at Microsoft.CodeAnalysis.Scripting.ScriptExecutionState.RunSubmissionsAsync[TResult](ImmutableArray`1 precedingExecutors, Func`2 currentExecutor, StrongBox`1 exceptionHolderOpt, Func`2 catchExceptionOpt, CancellationToken cancellationToken)",
     "output_type": "error",
     "traceback": [
      "System.TypeLoadException: Could not load type 'Microsoft.Graph.User' from assembly 'Microsoft.Graph, Version=5.41.0.0, Culture=neutral, PublicKeyToken=31bf3856ad364e35'.\r\n",
      "   at Microsoft.SemanticKernel.Plugins.MsGraph.Connectors.OutlookMailConnector.GetMyEmailAddressAsync(CancellationToken cancellationToken)\r\n",
      "   at Microsoft.SemanticKernel.Plugins.MsGraph.EmailPlugin.GetMyEmailAddressAsync()\r\n",
      "   at Microsoft.SemanticKernel.KernelFunctionFromMethod.<>c.<<GetReturnValueMarshalerDelegate>b__12_4>d.MoveNext()\r\n",
      "--- End of stack trace from previous location ---\r\n",
      "   at Microsoft.SemanticKernel.KernelFunction.InvokeAsync(Kernel kernel, KernelArguments arguments, CancellationToken cancellationToken)\r\n",
      "   at Microsoft.SemanticKernel.PromptTemplates.Handlebars.Helpers.KernelFunctionHelpers.InvokeKernelFunction(Kernel kernel, KernelFunction function, KernelArguments executionContext, CancellationToken cancellationToken)\r\n",
      "   at Microsoft.SemanticKernel.PromptTemplates.Handlebars.Helpers.KernelFunctionHelpers.<>c__DisplayClass1_0.<RegisterFunctionAsHelper>b__0(Context context, Arguments handlebarsArguments)\r\n",
      "   at HandlebarsDotNet.Helpers.DelegateReturnHelperDescriptor.Invoke(HelperOptions& options, Context& context, Arguments& arguments)\r\n",
      "   at HandlebarsDotNet.Helpers.DelegateReturnHelperDescriptor.HandlebarsDotNet.Helpers.IHelperDescriptor<HandlebarsDotNet.HelperOptions>.Invoke(HelperOptions& options, Context& context, Arguments& arguments)\r\n",
      "   at lambda_method369(Closure, EncodedTextWriter&, BindingContext)\r\n",
      "   at HandlebarsDotNet.HandlebarsEnvironment.<>c__DisplayClass19_0.<Compile>b__0(TextWriter writer, Object context, Object data)\r\n",
      "   at HandlebarsDotNet.HandlebarsEnvironment.<>c__DisplayClass20_0.<Compile>b__0(Object context, Object data)\r\n",
      "   at Microsoft.SemanticKernel.PromptTemplates.Handlebars.HandlebarsPromptTemplate.RenderAsync(Kernel kernel, KernelArguments arguments, CancellationToken cancellationToken)\r\n",
      "   at Microsoft.SemanticKernel.Planning.Handlebars.HandlebarsPlan.InvokeCoreAsync(Kernel kernel, KernelArguments arguments, CancellationToken cancellationToken)\r\n",
      "   at Microsoft.SemanticKernel.Planning.PlannerInstrumentation.InvokePlanAsync[TPlan,TPlanInput,TPlanResult](Func`5 InvokePlanAsync, TPlan plan, Kernel kernel, TPlanInput input, ILogger logger, CancellationToken cancellationToken)\r\n",
      "   at Submission#22.<<Initialize>>d__0.MoveNext()\r\n",
      "--- End of stack trace from previous location ---\r\n",
      "   at Microsoft.CodeAnalysis.Scripting.ScriptExecutionState.RunSubmissionsAsync[TResult](ImmutableArray`1 precedingExecutors, Func`2 currentExecutor, StrongBox`1 exceptionHolderOpt, Func`2 catchExceptionOpt, CancellationToken cancellationToken)"
     ]
    }
   ],
   "source": [
    "#pragma warning disable SKEXP0060\n",
    "var resp = await plan.InvokeAsync(kernel);\n",
    "Console.WriteLine(\"Result:\\n\");\n",
    "Console.WriteLine(resp);"
   ]
  }
 ],
 "metadata": {
  "language_info": {
   "name": "python"
  }
 },
 "nbformat": 4,
 "nbformat_minor": 2
}
