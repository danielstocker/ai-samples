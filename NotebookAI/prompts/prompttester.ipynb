{
 "cells": [
  {
   "cell_type": "markdown",
   "metadata": {},
   "source": [
    "## Prompt tester"
   ]
  },
  {
   "cell_type": "code",
   "execution_count": 2,
   "metadata": {
    "dotnet_interactive": {
     "language": "csharp"
    },
    "polyglot_notebook": {
     "kernelName": "csharp"
    },
    "vscode": {
     "languageId": "polyglot-notebook"
    }
   },
   "outputs": [
    {
     "data": {
      "text/html": [
       "<div><div></div><div></div><div><strong>Installed Packages</strong><ul><li><span>Azure.AI.OpenAI, 1.0.0-beta.12</span></li></ul></div></div>"
      ]
     },
     "metadata": {},
     "output_type": "display_data"
    }
   ],
   "source": [
    "#r \"nuget: Azure.AI.OpenAI, 1.0.0-beta.12\""
   ]
  },
  {
   "cell_type": "markdown",
   "metadata": {},
   "source": [
    "Setup"
   ]
  },
  {
   "cell_type": "code",
   "execution_count": 3,
   "metadata": {
    "dotnet_interactive": {
     "language": "csharp"
    },
    "polyglot_notebook": {
     "kernelName": "csharp"
    },
    "vscode": {
     "languageId": "polyglot-notebook"
    }
   },
   "outputs": [],
   "source": [
    "#!import ../config/Settings.cs\n",
    "\n",
    "using Azure;\n",
    "using Azure.AI.OpenAI;\n",
    "using Microsoft.DotNet.Interactive;\n",
    "using InteractiveKernel = Microsoft.DotNet.Interactive.Kernel;\n",
    "\n",
    "var (useAzureOpenAI, model, azureEndpoint, apiKey, bingApiKey, orgId) = Settings.LoadFromFile();\n",
    "\n",
    "OpenAIClient client = new(new Uri(azureEndpoint), new AzureKeyCredential(apiKey));"
   ]
  },
  {
   "cell_type": "markdown",
   "metadata": {},
   "source": [
    "Run various prompts"
   ]
  },
  {
   "cell_type": "code",
   "execution_count": null,
   "metadata": {
    "dotnet_interactive": {
     "language": "csharp"
    },
    "polyglot_notebook": {
     "kernelName": "csharp"
    },
    "vscode": {
     "languageId": "polyglot-notebook"
    }
   },
   "outputs": [],
   "source": [
    "do\n",
    "{\n",
    "    string? fileName = await InteractiveKernel.GetInputAsync(\"File name\");\n",
    "    if (string.IsNullOrEmpty(fileName))\n",
    "        break;\n",
    "\n",
    "    var messages = new ChatCompletionsOptions()\n",
    "    {\n",
    "        DeploymentName = model,\n",
    "        Messages =\n",
    "        {\n",
    "            new ChatRequestSystemMessage(System.IO.File.ReadAllText($\"{fileName}.txt\"))\n",
    "        },\n",
    "        MaxTokens = 100\n",
    "    };\n",
    "\n",
    "\n",
    "    string? userMessage = await InteractiveKernel.GetInputAsync(\"User message:\");\n",
    "    messages.Messages.Add(new ChatRequestUserMessage(userMessage));\n",
    "    using(StreamingResponse<StreamingChatCompletionsUpdate> response = await client.GetChatCompletionsStreamingAsync(messages))\n",
    "    {\n",
    "        var txt = new StringBuilder();\n",
    "        await foreach (var choice in response)\n",
    "        {\n",
    "            if (choice.ContentUpdate != null)\n",
    "            {\n",
    "                var txt1 = choice.ContentUpdate;\n",
    "                txt.Append(txt1);\n",
    "            }\n",
    "        }\n",
    "        Console.Write(txt);\n",
    "        Console.WriteLine();\n",
    "    }\n",
    "} while (true);"
   ]
  }
 ],
 "metadata": {
  "language_info": {
   "name": "python"
  }
 },
 "nbformat": 4,
 "nbformat_minor": 2
}
