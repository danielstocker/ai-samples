{
 "cells": [
  {
   "cell_type": "markdown",
   "metadata": {},
   "source": [
    "### Determine application type"
   ]
  },
  {
   "cell_type": "code",
   "execution_count": 1,
   "metadata": {
    "dotnet_interactive": {
     "language": "csharp"
    },
    "polyglot_notebook": {
     "kernelName": "csharp"
    },
    "vscode": {
     "languageId": "polyglot-notebook"
    }
   },
   "outputs": [
    {
     "data": {
      "text/html": [
       "<div><div></div><div></div><div><strong>Installed Packages</strong><ul><li><span>Azure.AI.OpenAI, 1.0.0-beta.12</span></li></ul></div></div>"
      ]
     },
     "metadata": {},
     "output_type": "display_data"
    }
   ],
   "source": [
    "#r \"nuget: Azure.AI.OpenAI, 1.0.0-beta.12\""
   ]
  },
  {
   "cell_type": "code",
   "execution_count": 3,
   "metadata": {
    "dotnet_interactive": {
     "language": "csharp"
    },
    "polyglot_notebook": {
     "kernelName": "csharp"
    },
    "vscode": {
     "languageId": "polyglot-notebook"
    }
   },
   "outputs": [
    {
     "name": "stdout",
     "output_type": "stream",
     "text": [
      "c:\\Users\\mrochon\\source\\repos\\ai-samples\\NotebookAI\\config\r\n"
     ]
    }
   ],
   "source": [
    "using System;\n",
    "using System.IO;\n",
    "string directory = \"../config\";\n",
    "string fullPath = Path.GetFullPath(directory);\n",
    "Console.WriteLine(fullPath);"
   ]
  },
  {
   "cell_type": "markdown",
   "metadata": {},
   "source": [
    "Setup OpenAI client"
   ]
  },
  {
   "cell_type": "code",
   "execution_count": 6,
   "metadata": {
    "dotnet_interactive": {
     "language": "csharp"
    },
    "polyglot_notebook": {
     "kernelName": "csharp"
    },
    "vscode": {
     "languageId": "polyglot-notebook"
    }
   },
   "outputs": [],
   "source": [
    "#!import ../config/Settings.cs\n",
    "\n",
    "using Azure;\n",
    "using Azure.AI.OpenAI;\n",
    "using Microsoft.DotNet.Interactive;\n",
    "using InteractiveKernel = Microsoft.DotNet.Interactive.Kernel;\n",
    "\n",
    "var (useAzureOpenAI, model, azureEndpoint, apiKey, bingApiKey, orgId) = Settings.LoadFromFile();\n",
    "\n",
    "OpenAIClient client = new(new Uri(azureEndpoint), new AzureKeyCredential(apiKey));\n",
    "\n",
    "var messages = new ChatCompletionsOptions()\n",
    "{\n",
    "    DeploymentName = model,\n",
    "    Messages =\n",
    "    {\n",
    "        new ChatRequestSystemMessage(System.IO.File.ReadAllText(\"system.txt\"))\n",
    "    },\n",
    "    MaxTokens = 100\n",
    "};\n"
   ]
  },
  {
   "cell_type": "markdown",
   "metadata": {},
   "source": [
    "Chat"
   ]
  },
  {
   "cell_type": "code",
   "execution_count": 7,
   "metadata": {
    "dotnet_interactive": {
     "language": "csharp"
    },
    "polyglot_notebook": {
     "kernelName": "csharp"
    },
    "vscode": {
     "languageId": "polyglot-notebook"
    }
   },
   "outputs": [
    {
     "ename": "Error",
     "evalue": "Command cancelled.",
     "output_type": "error",
     "traceback": [
      "Command cancelled."
     ]
    }
   ],
   "source": [
    "do\n",
    "{\n",
    "    string? userMessage = await InteractiveKernel.GetInputAsync(\"System description:\");\n",
    "    if (string.IsNullOrEmpty(userMessage))\n",
    "        break;\n",
    "    messages.Messages.Add(new ChatRequestUserMessage(userMessage));\n",
    "    using(StreamingResponse<StreamingChatCompletionsUpdate> response = await client.GetChatCompletionsStreamingAsync(messages))\n",
    "    {\n",
    "        var txt = new StringBuilder();\n",
    "        await foreach (var choice in response)\n",
    "        {\n",
    "            if (choice.ContentUpdate != null)\n",
    "            {\n",
    "                var txt1 = choice.ContentUpdate;\n",
    "                txt.Append(txt1);\n",
    "                // if (choice.Completion.Length > 0 && choice.Completion[^1] != ' ')\n",
    "                //     txt.Append(' ');\n",
    "            }\n",
    "        }\n",
    "        Console.Write(txt);\n",
    "        Console.WriteLine();\n",
    "    }\n",
    "} while (true);\n"
   ]
  }
 ],
 "metadata": {
  "language_info": {
   "name": "python"
  }
 },
 "nbformat": 4,
 "nbformat_minor": 2
}
